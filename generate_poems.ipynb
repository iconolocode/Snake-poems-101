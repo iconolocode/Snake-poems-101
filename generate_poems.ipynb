{
  "nbformat": 4,
  "nbformat_minor": 0,
  "metadata": {
    "colab": {
      "name": "generate_poems.ipynb",
      "provenance": [],
      "collapsed_sections": [],
      "toc_visible": true
    },
    "kernelspec": {
      "name": "python3",
      "display_name": "Python 3"
    },
    "language_info": {
      "name": "python"
    }
  },
  "cells": [
    {
      "cell_type": "code",
      "metadata": {
        "colab": {
          "base_uri": "https://localhost:8080/"
        },
        "id": "WWherT91rmet",
        "outputId": "b1f5a64d-437a-4ef4-a8fa-32c375ff9017"
      },
      "source": [
        "block = \"\"\"A Python I should not advise, -- \n",
        "It needs a doctor for its eyes,\n",
        "And has the measles yearly,\n",
        "\n",
        "However, if you feel inclined\n",
        "To get one (to improve your mind,\n",
        "And not from fashion merely),\n",
        "Allow no music near its cage;\n",
        "\n",
        "And when if flies into a rage\n",
        "Chastise it, most severely.\n",
        "\n",
        "I had an Aunt in Yucatan\n",
        "Who bought a Python from a man\n",
        "    And kept it for a pet.\n",
        "She died, because she never knew\n",
        "These simple little rules and few; -- \n",
        "\n",
        "The Snake is living yet.\"\"\"\n",
        "\n",
        "print(block)"
      ],
      "execution_count": null,
      "outputs": [
        {
          "output_type": "stream",
          "name": "stdout",
          "text": [
            "A Python I should not advise, -- \n",
            "It needs a doctor for its eyes,\n",
            "And has the measles yearly,\n",
            "\n",
            "However, if you feel inclined\n",
            "To get one (to improve your mind,\n",
            "And not from fashion merely),\n",
            "Allow no music near its cage;\n",
            "\n",
            "And when if flies into a rage\n",
            "Chastise it, most severely.\n",
            "\n",
            "I had an Aunt in Yucatan\n",
            "Who bought a Python from a man\n",
            "    And kept it for a pet.\n",
            "She died, because she never knew\n",
            "These simple little rules and few; -- \n",
            "\n",
            "The Snake is living yet.\n"
          ]
        }
      ]
    },
    {
      "cell_type": "code",
      "metadata": {
        "colab": {
          "base_uri": "https://localhost:8080/"
        },
        "id": "-0sDXM6e2vS7",
        "outputId": "001376c8-6b2b-4203-e418-ad0b28b3f1ff"
      },
      "source": [
        "lines = block.split('\\n')\n",
        "\n",
        "print(lines)\n",
        "\n",
        "poem = lines"
      ],
      "execution_count": null,
      "outputs": [
        {
          "output_type": "stream",
          "name": "stdout",
          "text": [
            "['A Python I should not advise, -- ', 'It needs a doctor for its eyes,', 'And has the measles yearly,', '', 'However, if you feel inclined', 'To get one (to improve your mind,', 'And not from fashion merely),', 'Allow no music near its cage;', '', 'And when if flies into a rage', 'Chastise it, most severely.', '', 'I had an Aunt in Yucatan', 'Who bought a Python from a man', '    And kept it for a pet.', 'She died, because she never knew', 'These simple little rules and few; -- ', '', 'The Snake is living yet.']\n"
          ]
        }
      ]
    },
    {
      "cell_type": "code",
      "metadata": {
        "colab": {
          "base_uri": "https://localhost:8080/"
        },
        "id": "22yWb95-2u7L",
        "outputId": "5363bc83-d622-43be-e43f-37a1bfd61c23"
      },
      "source": [
        "stanzas = block.split('\\n\\n')\n",
        "\n",
        "print(stanzas)"
      ],
      "execution_count": null,
      "outputs": [
        {
          "output_type": "stream",
          "name": "stdout",
          "text": [
            "['A Python I should not advise, -- \\nIt needs a doctor for its eyes,\\nAnd has the measles yearly,', 'However, if you feel inclined\\nTo get one (to improve your mind,\\nAnd not from fashion merely),\\nAllow no music near its cage;', 'And when if flies into a rage\\nChastise it, most severely.', 'I had an Aunt in Yucatan\\nWho bought a Python from a man\\n    And kept it for a pet.\\nShe died, because she never knew\\nThese simple little rules and few; -- ', 'The Snake is living yet.']\n"
          ]
        }
      ]
    },
    {
      "cell_type": "code",
      "metadata": {
        "colab": {
          "base_uri": "https://localhost:8080/"
        },
        "id": "eUVA_QGK3n22",
        "outputId": "1084f074-cf32-4ba2-d4c0-231fed98c1e3"
      },
      "source": [
        "all_words = block.replace('\\n', ' ').split(' ')\n",
        "\n",
        "print(all_words)"
      ],
      "execution_count": null,
      "outputs": [
        {
          "output_type": "stream",
          "name": "stdout",
          "text": [
            "['A', 'Python', 'I', 'should', 'not', 'advise,', '--', '', 'It', 'needs', 'a', 'doctor', 'for', 'its', 'eyes,', 'And', 'has', 'the', 'measles', 'yearly,', '', 'However,', 'if', 'you', 'feel', 'inclined', 'To', 'get', 'one', '(to', 'improve', 'your', 'mind,', 'And', 'not', 'from', 'fashion', 'merely),', 'Allow', 'no', 'music', 'near', 'its', 'cage;', '', 'And', 'when', 'if', 'flies', 'into', 'a', 'rage', 'Chastise', 'it,', 'most', 'severely.', '', 'I', 'had', 'an', 'Aunt', 'in', 'Yucatan', 'Who', 'bought', 'a', 'Python', 'from', 'a', 'man', '', '', '', '', 'And', 'kept', 'it', 'for', 'a', 'pet.', 'She', 'died,', 'because', 'she', 'never', 'knew', 'These', 'simple', 'little', 'rules', 'and', 'few;', '--', '', '', 'The', 'Snake', 'is', 'living', 'yet.']\n"
          ]
        }
      ]
    },
    {
      "cell_type": "code",
      "metadata": {
        "colab": {
          "base_uri": "https://localhost:8080/"
        },
        "id": "yp9wP0Zn3n_O",
        "outputId": "805f071e-f445-4550-9677-a8cfef40f7d9"
      },
      "source": [
        "cutting_python = block.split('Python')\n",
        "\n",
        "print(cutting_python)"
      ],
      "execution_count": null,
      "outputs": [
        {
          "output_type": "stream",
          "name": "stdout",
          "text": [
            "['A ', ' I should not advise, -- \\nIt needs a doctor for its eyes,\\nAnd has the measles yearly,\\n\\nHowever, if you feel inclined\\nTo get one (to improve your mind,\\nAnd not from fashion merely),\\nAllow no music near its cage;\\n\\nAnd when if flies into a rage\\nChastise it, most severely.\\n\\nI had an Aunt in Yucatan\\nWho bought a ', ' from a man\\n    And kept it for a pet.\\nShe died, because she never knew\\nThese simple little rules and few; -- \\n\\nThe Snake is living yet.']\n"
          ]
        }
      ]
    },
    {
      "cell_type": "code",
      "metadata": {
        "colab": {
          "base_uri": "https://localhost:8080/"
        },
        "id": "XTuojHTNrwiT",
        "outputId": "b166cc67-2617-475a-ecef-8146a5153f81"
      },
      "source": [
        "for line in poem:\n",
        "    print(line)"
      ],
      "execution_count": null,
      "outputs": [
        {
          "output_type": "stream",
          "name": "stdout",
          "text": [
            "A Python I should not advise, -- \n",
            "It needs a doctor for its eyes,\n",
            "And has the measles yearly,\n",
            "\n",
            "However, if you feel inclined\n",
            "To get one (to improve your mind,\n",
            "And not from fashion merely),\n",
            "Allow no music near its cage;\n",
            "\n",
            "And when if flies into a rage\n",
            "Chastise it, most severely.\n",
            "\n",
            "I had an Aunt in Yucatan\n",
            "Who bought a Python from a man\n",
            "    And kept it for a pet.\n",
            "She died, because she never knew\n",
            "These simple little rules and few; -- \n",
            "\n",
            "The Snake is living yet.\n"
          ]
        }
      ]
    },
    {
      "cell_type": "code",
      "metadata": {
        "colab": {
          "base_uri": "https://localhost:8080/"
        },
        "id": "9UJAf86yTyB-",
        "outputId": "1f1770cf-b61f-4a2e-9841-97021eb17faf"
      },
      "source": [
        "for line in poem:\n",
        "    print(line.strip())"
      ],
      "execution_count": null,
      "outputs": [
        {
          "output_type": "stream",
          "name": "stdout",
          "text": [
            "A Python I should not advise, --\n",
            "It needs a doctor for its eyes,\n",
            "And has the measles yearly,\n",
            "\n",
            "However, if you feel inclined\n",
            "To get one (to improve your mind,\n",
            "And not from fashion merely),\n",
            "Allow no music near its cage;\n",
            "\n",
            "And when if flies into a rage\n",
            "Chastise it, most severely.\n",
            "\n",
            "I had an Aunt in Yucatan\n",
            "Who bought a Python from a man\n",
            "And kept it for a pet.\n",
            "She died, because she never knew\n",
            "These simple little rules and few; --\n",
            "\n",
            "The Snake is living yet.\n"
          ]
        }
      ]
    },
    {
      "cell_type": "code",
      "metadata": {
        "colab": {
          "base_uri": "https://localhost:8080/"
        },
        "id": "1AYErCemrw3B",
        "outputId": "c35d64da-d104-4665-a87e-312ef761c23c"
      },
      "source": [
        "for line in poem:\n",
        "    if line is not '':\n",
        "        print(line)"
      ],
      "execution_count": null,
      "outputs": [
        {
          "output_type": "stream",
          "name": "stdout",
          "text": [
            "A Python I should not advise, -- \n",
            "It needs a doctor for its eyes,\n",
            "And has the measles yearly,\n",
            "However, if you feel inclined\n",
            "To get one (to improve your mind,\n",
            "And not from fashion merely),\n",
            "Allow no music near its cage;\n",
            "And when if flies into a rage\n",
            "Chastise it, most severely.\n",
            "I had an Aunt in Yucatan\n",
            "Who bought a Python from a man\n",
            "    And kept it for a pet.\n",
            "She died, because she never knew\n",
            "These simple little rules and few; -- \n",
            "The Snake is living yet.\n"
          ]
        }
      ]
    },
    {
      "cell_type": "code",
      "metadata": {
        "colab": {
          "base_uri": "https://localhost:8080/"
        },
        "id": "BFJNy93qwQb4",
        "outputId": "467105e1-bcb6-44c8-c439-4ee2c1966425"
      },
      "source": [
        "verse_number = 1\n",
        "\n",
        "for line in poem:\n",
        "    if line is not '':\n",
        "        print(verse_number, line)\n",
        "        verse_number += 1\n",
        "    else:\n",
        "        print(line)"
      ],
      "execution_count": null,
      "outputs": [
        {
          "output_type": "stream",
          "name": "stdout",
          "text": [
            "1 A Python I should not advise, -- \n",
            "2 It needs a doctor for its eyes,\n",
            "3 And has the measles yearly,\n",
            "\n",
            "4 However, if you feel inclined\n",
            "5 To get one (to improve your mind,\n",
            "6 And not from fashion merely),\n",
            "7 Allow no music near its cage;\n",
            "\n",
            "8 And when if flies into a rage\n",
            "9 Chastise it, most severely.\n",
            "\n",
            "10 I had an Aunt in Yucatan\n",
            "11 Who bought a Python from a man\n",
            "12     And kept it for a pet.\n",
            "13 She died, because she never knew\n",
            "14 These simple little rules and few; -- \n",
            "\n",
            "15 The Snake is living yet.\n"
          ]
        }
      ]
    },
    {
      "cell_type": "code",
      "metadata": {
        "colab": {
          "base_uri": "https://localhost:8080/"
        },
        "id": "sAbgqFR1w6Vb",
        "outputId": "65c3160f-1d83-4516-cb27-3af15009728d"
      },
      "source": [
        "first_line = poem[0]\n",
        "last_line = poem[-1]\n",
        "\n",
        "print(first_line)\n",
        "print(last_line)"
      ],
      "execution_count": null,
      "outputs": [
        {
          "output_type": "stream",
          "name": "stdout",
          "text": [
            "A Python I should not advise, -- \n",
            "The Snake is living yet.\n"
          ]
        }
      ]
    },
    {
      "cell_type": "code",
      "metadata": {
        "colab": {
          "base_uri": "https://localhost:8080/"
        },
        "id": "NhaHtR6lzAgM",
        "outputId": "86e3c606-d104-40a9-b327-f49c367ce2e8"
      },
      "source": [
        "for index in (1, 2, 3):\n",
        "    print(index, poem[index])"
      ],
      "execution_count": null,
      "outputs": [
        {
          "output_type": "stream",
          "name": "stdout",
          "text": [
            "1 It needs a doctor for its eyes,\n",
            "2 And has the measles yearly,\n",
            "3 \n"
          ]
        }
      ]
    },
    {
      "cell_type": "code",
      "metadata": {
        "colab": {
          "base_uri": "https://localhost:8080/"
        },
        "id": "LY4NCTk0zcP0",
        "outputId": "48e9abb6-5c51-48bc-cc3e-dd831a23eb2b"
      },
      "source": [
        "for i in range(0, 3):\n",
        "    print(i, poem[i])"
      ],
      "execution_count": null,
      "outputs": [
        {
          "output_type": "stream",
          "name": "stdout",
          "text": [
            "0 A Python I should not advise, -- \n",
            "1 It needs a doctor for its eyes,\n",
            "2 And has the measles yearly,\n"
          ]
        }
      ]
    },
    {
      "cell_type": "code",
      "metadata": {
        "colab": {
          "base_uri": "https://localhost:8080/"
        },
        "id": "Sn1Hpzfjw-C9",
        "outputId": "4f99ab8d-9457-49fb-e6e1-5d73782f6374"
      },
      "source": [
        "for i in range(len(poem)):\n",
        "    print(i, poem[i])"
      ],
      "execution_count": null,
      "outputs": [
        {
          "output_type": "stream",
          "name": "stdout",
          "text": [
            "0 A Python I should not advise, -- \n",
            "1 It needs a doctor for its eyes,\n",
            "2 And has the measles yearly,\n",
            "3 \n",
            "4 However, if you feel inclined\n",
            "5 To get one (to improve your mind,\n",
            "6 And not from fashion merely),\n",
            "7 Allow no music near its cage;\n",
            "8 \n",
            "9 And when if flies into a rage\n",
            "10 Chastise it, most severely.\n",
            "11 \n",
            "12 I had an Aunt in Yucatan\n",
            "13 Who bought a Python from a man\n",
            "14     And kept it for a pet.\n",
            "15 She died, because she never knew\n",
            "16 These simple little rules and few; -- \n",
            "17 \n",
            "18 The Snake is living yet.\n"
          ]
        }
      ]
    },
    {
      "cell_type": "code",
      "metadata": {
        "colab": {
          "base_uri": "https://localhost:8080/"
        },
        "id": "kQAgZHzEzSOD",
        "outputId": "96eb7f0d-d993-4048-e2bd-1861cd6d0b18"
      },
      "source": [
        "for line in poem[:3]:\n",
        "    print(line)"
      ],
      "execution_count": null,
      "outputs": [
        {
          "output_type": "stream",
          "name": "stdout",
          "text": [
            "A Python I should not advise, -- \n",
            "It needs a doctor for its eyes,\n",
            "And has the measles yearly,\n"
          ]
        }
      ]
    },
    {
      "cell_type": "code",
      "metadata": {
        "colab": {
          "base_uri": "https://localhost:8080/"
        },
        "id": "nLFOHlTAz7CA",
        "outputId": "81c8afd5-26de-473c-ea8f-9ac750a416c5"
      },
      "source": [
        "for line in poem[3:]:\n",
        "    print(line)"
      ],
      "execution_count": null,
      "outputs": [
        {
          "output_type": "stream",
          "name": "stdout",
          "text": [
            "\n",
            "However, if you feel inclined\n",
            "To get one (to improve your mind,\n",
            "And not from fashion merely),\n",
            "Allow no music near its cage;\n",
            "\n",
            "And when if flies into a rage\n",
            "Chastise it, most severely.\n",
            "\n",
            "I had an Aunt in Yucatan\n",
            "Who bought a Python from a man\n",
            "    And kept it for a pet.\n",
            "She died, because she never knew\n",
            "These simple little rules and few; -- \n",
            "\n",
            "The Snake is living yet.\n"
          ]
        }
      ]
    },
    {
      "cell_type": "code",
      "metadata": {
        "colab": {
          "base_uri": "https://localhost:8080/"
        },
        "id": "O1SZyhKFz9nO",
        "outputId": "c19e7757-1d50-4687-87d7-765a56ed23c4"
      },
      "source": [
        "for line in poem[-3:]:\n",
        "    print(line)"
      ],
      "execution_count": null,
      "outputs": [
        {
          "output_type": "stream",
          "name": "stdout",
          "text": [
            "These simple little rules and few; -- \n",
            "\n",
            "The Snake is living yet.\n"
          ]
        }
      ]
    },
    {
      "cell_type": "code",
      "metadata": {
        "colab": {
          "base_uri": "https://localhost:8080/"
        },
        "id": "SBL3q7nW1_aw",
        "outputId": "442b727a-7971-47a3-b8e2-384e91e4aceb"
      },
      "source": [
        "for line in poem:\n",
        "    if line is not '':\n",
        "        print(line[0])"
      ],
      "execution_count": null,
      "outputs": [
        {
          "output_type": "stream",
          "name": "stdout",
          "text": [
            "A\n",
            "I\n",
            "A\n",
            "H\n",
            "T\n",
            "A\n",
            "A\n",
            "A\n",
            "C\n",
            "I\n",
            "W\n",
            " \n",
            "S\n",
            "T\n",
            "T\n"
          ]
        }
      ]
    },
    {
      "cell_type": "code",
      "metadata": {
        "colab": {
          "base_uri": "https://localhost:8080/"
        },
        "id": "2oFuseNa1zBE",
        "outputId": "5d788415-05d7-4332-cbfd-9ac9d56e9d86"
      },
      "source": [
        "for line in poem:\n",
        "    print(line[-3:])"
      ],
      "execution_count": null,
      "outputs": [
        {
          "output_type": "stream",
          "name": "stdout",
          "text": [
            "-- \n",
            "es,\n",
            "ly,\n",
            "\n",
            "ned\n",
            "nd,\n",
            "y),\n",
            "ge;\n",
            "\n",
            "age\n",
            "ly.\n",
            "\n",
            "tan\n",
            "man\n",
            "et.\n",
            "new\n",
            "-- \n",
            "\n",
            "et.\n"
          ]
        }
      ]
    },
    {
      "cell_type": "code",
      "metadata": {
        "colab": {
          "base_uri": "https://localhost:8080/"
        },
        "id": "50oRNRB-ETdb",
        "outputId": "c26e50b1-bf34-4c1b-fe00-a7ec674503e9"
      },
      "source": [
        "for line in poem:\n",
        "    line = ''.join(letter for letter in line\n",
        "                   if letter.isalpha())\n",
        "    print(line[-2:])"
      ],
      "execution_count": null,
      "outputs": [
        {
          "output_type": "stream",
          "name": "stdout",
          "text": [
            "se\n",
            "es\n",
            "ly\n",
            "\n",
            "ed\n",
            "nd\n",
            "ly\n",
            "ge\n",
            "\n",
            "ge\n",
            "ly\n",
            "\n",
            "an\n",
            "an\n",
            "et\n",
            "ew\n",
            "ew\n",
            "\n",
            "et\n"
          ]
        }
      ]
    },
    {
      "cell_type": "code",
      "metadata": {
        "colab": {
          "base_uri": "https://localhost:8080/"
        },
        "id": "0i3EtxqpQm4a",
        "outputId": "8a6331ab-e4ab-4d83-8087-0d18a4f5bb24"
      },
      "source": [
        "for line in poem:\n",
        "    new_line = ''\n",
        "\n",
        "    for word in line.split(' '):\n",
        "        if word != '':\n",
        "            new_line = new_line + word[0] + ' '\n",
        "    \n",
        "    print(new_line)"
      ],
      "execution_count": null,
      "outputs": [
        {
          "output_type": "stream",
          "name": "stdout",
          "text": [
            "A P I s n a - \n",
            "I n a d f i e \n",
            "A h t m y \n",
            "\n",
            "H i y f i \n",
            "T g o ( i y m \n",
            "A n f f m \n",
            "A n m n i c \n",
            "\n",
            "A w i f i a r \n",
            "C i m s \n",
            "\n",
            "I h a A i Y \n",
            "W b a P f a m \n",
            "A k i f a p \n",
            "S d b s n k \n",
            "T s l r a f - \n",
            "\n",
            "T S i l y \n"
          ]
        }
      ]
    },
    {
      "cell_type": "code",
      "metadata": {
        "colab": {
          "base_uri": "https://localhost:8080/"
        },
        "id": "1WCJ04qo0DBo",
        "outputId": "a055e422-55b9-4822-da0c-6deea04dafa9"
      },
      "source": [
        "for line in poem[::2]:\n",
        "    print(line)"
      ],
      "execution_count": null,
      "outputs": [
        {
          "output_type": "stream",
          "name": "stdout",
          "text": [
            "A Python I should not advise, -- \n",
            "And has the measles yearly,\n",
            "However, if you feel inclined\n",
            "And not from fashion merely),\n",
            "\n",
            "Chastise it, most severely.\n",
            "I had an Aunt in Yucatan\n",
            "    And kept it for a pet.\n",
            "These simple little rules and few; -- \n",
            "The Snake is living yet.\n"
          ]
        }
      ]
    },
    {
      "cell_type": "code",
      "metadata": {
        "colab": {
          "base_uri": "https://localhost:8080/"
        },
        "id": "oXvBpsIB0IpP",
        "outputId": "de39955b-be8f-4f59-9d13-5ff5a1f4618c"
      },
      "source": [
        "for line in poem[::3]:\n",
        "    print(line)"
      ],
      "execution_count": null,
      "outputs": [
        {
          "output_type": "stream",
          "name": "stdout",
          "text": [
            "A Python I should not advise, -- \n",
            "\n",
            "And not from fashion merely),\n",
            "And when if flies into a rage\n",
            "I had an Aunt in Yucatan\n",
            "She died, because she never knew\n",
            "The Snake is living yet.\n"
          ]
        }
      ]
    },
    {
      "cell_type": "code",
      "metadata": {
        "colab": {
          "base_uri": "https://localhost:8080/"
        },
        "id": "lpH-g1PlEVUn",
        "outputId": "bce6856a-e5c8-4dc8-bfed-534b5342fe8e"
      },
      "source": [
        "for line in poem[::4]:\n",
        "    print(line)"
      ],
      "execution_count": null,
      "outputs": [
        {
          "output_type": "stream",
          "name": "stdout",
          "text": [
            "A Python I should not advise, -- \n",
            "However, if you feel inclined\n",
            "\n",
            "I had an Aunt in Yucatan\n",
            "These simple little rules and few; -- \n"
          ]
        }
      ]
    },
    {
      "cell_type": "code",
      "metadata": {
        "colab": {
          "base_uri": "https://localhost:8080/"
        },
        "id": "vEdSJRqY1k3I",
        "outputId": "72c56ebc-a0a9-43f0-876e-d3810adced8e"
      },
      "source": [
        "for line in poem:\n",
        "    print(line[::2])"
      ],
      "execution_count": null,
      "outputs": [
        {
          "output_type": "stream",
          "name": "stdout",
          "text": [
            "APto  hudntavs,- \n",
            "I ed  otrfrisee,\n",
            "Adhstemalsyal,\n",
            "\n",
            "Hwvr fyufe nlnd\n",
            "T e n t mrv ormn,\n",
            "Adntfo aho eey,\n",
            "Alwn ui eriscg;\n",
            "\n",
            "Adwe ffisit  ae\n",
            "Cats t otsvrl.\n",
            "\n",
            "Ihda uti uaa\n",
            "Wobuh  yhnfo  a\n",
            "  Adkp tfrapt\n",
            "Sede,bcuesenvrke\n",
            "Teesml iterlsadfw -\n",
            "\n",
            "TeSaei iigyt\n"
          ]
        }
      ]
    },
    {
      "cell_type": "code",
      "metadata": {
        "colab": {
          "base_uri": "https://localhost:8080/"
        },
        "id": "gFaFuMEn1kEp",
        "outputId": "271c0820-5f90-4f27-cbda-50634d3c5ca4"
      },
      "source": [
        "for line in poem:\n",
        "    print(line[::4])"
      ],
      "execution_count": null,
      "outputs": [
        {
          "output_type": "stream",
          "name": "stdout",
          "text": [
            "At hdtv, \n",
            "Ie orrse\n",
            "Ahtmlyl\n",
            "\n",
            "Hv yf ld\n",
            "Tentmvom,\n",
            "Anf h e,\n",
            "Aw ieic;\n",
            "\n",
            "Aw fst e\n",
            "Ct  tvl\n",
            "\n",
            "Id t a\n",
            "Wbh hf a\n",
            " Ak fat\n",
            "Sd,ceevk\n",
            "Tem trsdw-\n",
            "\n",
            "TSe iy\n"
          ]
        }
      ]
    },
    {
      "cell_type": "code",
      "metadata": {
        "colab": {
          "base_uri": "https://localhost:8080/"
        },
        "id": "HRzgGdOe0Nbx",
        "outputId": "e76cf1de-af89-4271-f4e7-b9b93ea50255"
      },
      "source": [
        "for line in poem[::-1]:\n",
        "    print(line)"
      ],
      "execution_count": null,
      "outputs": [
        {
          "output_type": "stream",
          "name": "stdout",
          "text": [
            "The Snake is living yet.\n",
            "\n",
            "These simple little rules and few; -- \n",
            "She died, because she never knew\n",
            "    And kept it for a pet.\n",
            "Who bought a Python from a man\n",
            "I had an Aunt in Yucatan\n",
            "\n",
            "Chastise it, most severely.\n",
            "And when if flies into a rage\n",
            "\n",
            "Allow no music near its cage;\n",
            "And not from fashion merely),\n",
            "To get one (to improve your mind,\n",
            "However, if you feel inclined\n",
            "\n",
            "And has the measles yearly,\n",
            "It needs a doctor for its eyes,\n",
            "A Python I should not advise, -- \n"
          ]
        }
      ]
    },
    {
      "cell_type": "code",
      "metadata": {
        "colab": {
          "base_uri": "https://localhost:8080/"
        },
        "id": "FW-aht5_1SlR",
        "outputId": "89f25202-76ff-44e8-cf36-fac012ecce47"
      },
      "source": [
        "for line in poem:\n",
        "    print(line[::-1])"
      ],
      "execution_count": null,
      "outputs": [
        {
          "output_type": "stream",
          "name": "stdout",
          "text": [
            " -- ,esivda ton dluohs I nohtyP A\n",
            ",seye sti rof rotcod a sdeen tI\n",
            ",ylraey selsaem eht sah dnA\n",
            "\n",
            "denilcni leef uoy fi ,revewoH\n",
            ",dnim ruoy evorpmi ot( eno teg oT\n",
            ",)ylerem noihsaf morf ton dnA\n",
            ";egac sti raen cisum on wollA\n",
            "\n",
            "egar a otni seilf fi nehw dnA\n",
            ".ylereves tsom ,ti esitsahC\n",
            "\n",
            "natacuY ni tnuA na dah I\n",
            "nam a morf nohtyP a thguob ohW\n",
            ".tep a rof ti tpek dnA    \n",
            "wenk reven ehs esuaceb ,deid ehS\n",
            " -- ;wef dna selur elttil elpmis esehT\n",
            "\n",
            ".tey gnivil si ekanS ehT\n"
          ]
        }
      ]
    },
    {
      "cell_type": "code",
      "metadata": {
        "colab": {
          "base_uri": "https://localhost:8080/"
        },
        "id": "SpsCtb5A1cpk",
        "outputId": "b1388dfd-ffac-4edb-f1a3-d67eb7425da6"
      },
      "source": [
        "for line in poem[::-1]:\n",
        "    print(line[::-1])"
      ],
      "execution_count": null,
      "outputs": [
        {
          "output_type": "stream",
          "name": "stdout",
          "text": [
            ".tey gnivil si ekanS ehT\n",
            "\n",
            " -- ;wef dna selur elttil elpmis esehT\n",
            "wenk reven ehs esuaceb ,deid ehS\n",
            ".tep a rof ti tpek dnA    \n",
            "nam a morf nohtyP a thguob ohW\n",
            "natacuY ni tnuA na dah I\n",
            "\n",
            ".ylereves tsom ,ti esitsahC\n",
            "egar a otni seilf fi nehw dnA\n",
            "\n",
            ";egac sti raen cisum on wollA\n",
            ",)ylerem noihsaf morf ton dnA\n",
            ",dnim ruoy evorpmi ot( eno teg oT\n",
            "denilcni leef uoy fi ,revewoH\n",
            "\n",
            ",ylraey selsaem eht sah dnA\n",
            ",seye sti rof rotcod a sdeen tI\n",
            " -- ,esivda ton dluohs I nohtyP A\n"
          ]
        }
      ]
    },
    {
      "cell_type": "code",
      "metadata": {
        "colab": {
          "base_uri": "https://localhost:8080/"
        },
        "id": "OU9PlHx9ZjMU",
        "outputId": "b5da5cdc-4359-4b71-ca14-3bd353e9fcf7"
      },
      "source": [
        "for line in poem:\n",
        "    print(line[:8] * 4)"
      ],
      "execution_count": null,
      "outputs": [
        {
          "output_type": "stream",
          "name": "stdout",
          "text": [
            "A PythonA PythonA PythonA Python\n",
            "It needsIt needsIt needsIt needs\n",
            "And has And has And has And has \n",
            "\n",
            "However,However,However,However,\n",
            "To get oTo get oTo get oTo get o\n",
            "And not And not And not And not \n",
            "Allow noAllow noAllow noAllow no\n",
            "\n",
            "And whenAnd whenAnd whenAnd when\n",
            "ChastiseChastiseChastiseChastise\n",
            "\n",
            "I had anI had anI had anI had an\n",
            "Who bougWho bougWho bougWho boug\n",
            "    And     And     And     And \n",
            "She diedShe diedShe diedShe died\n",
            "These siThese siThese siThese si\n",
            "\n",
            "The SnakThe SnakThe SnakThe Snak\n"
          ]
        }
      ]
    },
    {
      "cell_type": "code",
      "metadata": {
        "colab": {
          "base_uri": "https://localhost:8080/"
        },
        "id": "CQyFOfLRZ5JW",
        "outputId": "a74befc3-7408-4ed7-92b0-f9b5ec0018f0"
      },
      "source": [
        "for line in poem:\n",
        "    print(line[:16] + line[16::-1])"
      ],
      "execution_count": null,
      "outputs": [
        {
          "output_type": "stream",
          "name": "stdout",
          "text": [
            "A Python I shouldluohs I nohtyP A\n",
            "It needs a doctorotcod a sdeen tI\n",
            "And has the measlsaem eht sah dnA\n",
            "\n",
            "However, if you f uoy fi ,revewoH\n",
            "To get one (to imi ot( eno teg oT\n",
            "And not from fashsaf morf ton dnA\n",
            "Allow no music nen cisum on wollA\n",
            "\n",
            "And when if flieseilf fi nehw dnA\n",
            "Chastise it, mostsom ,ti esitsahC\n",
            "\n",
            "I had an Aunt in ni tnuA na dah I\n",
            "Who bought a PythtyP a thguob ohW\n",
            "    And kept it f ti tpek dnA    \n",
            "She died, becausesuaceb ,deid ehS\n",
            "These simple litttil elpmis esehT\n",
            "\n",
            "The Snake is livivil si ekanS ehT\n"
          ]
        }
      ]
    },
    {
      "cell_type": "code",
      "metadata": {
        "colab": {
          "base_uri": "https://localhost:8080/"
        },
        "id": "WMZ550Zobo05",
        "outputId": "5f532e8a-7f32-4500-912a-656efaff1574"
      },
      "source": [
        "for line in poem:\n",
        "    words = line.split(' ')\n",
        "\n",
        "    print(words[0])"
      ],
      "execution_count": null,
      "outputs": [
        {
          "output_type": "stream",
          "name": "stdout",
          "text": [
            "A\n",
            "It\n",
            "And\n",
            "\n",
            "However,\n",
            "To\n",
            "And\n",
            "Allow\n",
            "\n",
            "And\n",
            "Chastise\n",
            "\n",
            "I\n",
            "Who\n",
            "\n",
            "She\n",
            "These\n",
            "\n",
            "The\n"
          ]
        }
      ]
    },
    {
      "cell_type": "code",
      "metadata": {
        "colab": {
          "base_uri": "https://localhost:8080/"
        },
        "id": "GldeXNMtb1KF",
        "outputId": "94c9fdfc-8bd9-41f3-d611-40f0da871bb6"
      },
      "source": [
        "for line in poem:\n",
        "    if line != '':\n",
        "        words = line.split(' ')\n",
        "\n",
        "        print(*words[:3], sep = ' ')"
      ],
      "execution_count": null,
      "outputs": [
        {
          "output_type": "stream",
          "name": "stdout",
          "text": [
            "A Python I\n",
            "It needs a\n",
            "And has the\n",
            "However, if you\n",
            "To get one\n",
            "And not from\n",
            "Allow no music\n",
            "And when if\n",
            "Chastise it, most\n",
            "I had an\n",
            "Who bought a\n",
            "  \n",
            "She died, because\n",
            "These simple little\n",
            "The Snake is\n"
          ]
        }
      ]
    },
    {
      "cell_type": "code",
      "metadata": {
        "colab": {
          "base_uri": "https://localhost:8080/"
        },
        "id": "jZc776TzbqhR",
        "outputId": "f1c2a8c7-5294-4944-f9a4-814d9c299309"
      },
      "source": [
        "for line in poem:\n",
        "    if line != '':\n",
        "        words = line.split(' ')\n",
        "\n",
        "        print(words[1], words[-1])"
      ],
      "execution_count": null,
      "outputs": [
        {
          "output_type": "stream",
          "name": "stdout",
          "text": [
            "Python \n",
            "needs eyes,\n",
            "has yearly,\n",
            "if inclined\n",
            "get mind,\n",
            "not merely),\n",
            "no cage;\n",
            "when rage\n",
            "it, severely.\n",
            "had Yucatan\n",
            "bought man\n",
            " pet.\n",
            "died, knew\n",
            "simple \n",
            "Snake yet.\n"
          ]
        }
      ]
    },
    {
      "cell_type": "code",
      "metadata": {
        "colab": {
          "base_uri": "https://localhost:8080/"
        },
        "id": "svOkjGR2M8Ek",
        "outputId": "c0eea501-b66b-476e-8bb4-15d9a2f1003c"
      },
      "source": [
        "for line in poem:\n",
        "    if 'I' in line:\n",
        "        print(line)"
      ],
      "execution_count": null,
      "outputs": [
        {
          "output_type": "stream",
          "name": "stdout",
          "text": [
            "A Python I should not advise, -- \n",
            "It needs a doctor for its eyes,\n",
            "I had an Aunt in Yucatan\n"
          ]
        }
      ]
    },
    {
      "cell_type": "code",
      "metadata": {
        "colab": {
          "base_uri": "https://localhost:8080/"
        },
        "id": "dGFcJa2RMVtO",
        "outputId": "8a162b3f-f782-4bd1-815d-e8cab1c737f0"
      },
      "source": [
        "for line in poem:\n",
        "    if ('Python' in line) or ('Snake' in line):\n",
        "        print(line)"
      ],
      "execution_count": null,
      "outputs": [
        {
          "output_type": "stream",
          "name": "stdout",
          "text": [
            "A Python I should not advise, -- \n",
            "Who bought a Python from a man\n",
            "The Snake is living yet.\n"
          ]
        }
      ]
    },
    {
      "cell_type": "code",
      "metadata": {
        "colab": {
          "base_uri": "https://localhost:8080/"
        },
        "id": "JoNtKTFv-HDB",
        "outputId": "b68e4ec2-5ad8-4be4-fb80-ae4b248b60bc"
      },
      "source": [
        "for i in range(len(poem)):\n",
        "    print(i * ' ' + poem[i])"
      ],
      "execution_count": null,
      "outputs": [
        {
          "output_type": "stream",
          "name": "stdout",
          "text": [
            "A Python I should not advise, -- \n",
            " It needs a doctor for its eyes,\n",
            "  And has the measles yearly,\n",
            "   \n",
            "    However, if you feel inclined\n",
            "     To get one (to improve your mind,\n",
            "      And not from fashion merely),\n",
            "       Allow no music near its cage;\n",
            "        \n",
            "         And when if flies into a rage\n",
            "          Chastise it, most severely.\n",
            "           \n",
            "            I had an Aunt in Yucatan\n",
            "             Who bought a Python from a man\n",
            "                  And kept it for a pet.\n",
            "               She died, because she never knew\n",
            "                These simple little rules and few; -- \n",
            "                 \n",
            "                  The Snake is living yet.\n"
          ]
        }
      ]
    },
    {
      "cell_type": "code",
      "metadata": {
        "colab": {
          "base_uri": "https://localhost:8080/"
        },
        "id": "Po6RSlob-SWi",
        "outputId": "940d837d-5cc7-4b23-a3be-e94aa1f772de"
      },
      "source": [
        "for i in range(len(poem)):\n",
        "    print((len(poem) - i) * ' ' + poem[i])"
      ],
      "execution_count": null,
      "outputs": [
        {
          "output_type": "stream",
          "name": "stdout",
          "text": [
            "                   A Python I should not advise, -- \n",
            "                  It needs a doctor for its eyes,\n",
            "                 And has the measles yearly,\n",
            "                \n",
            "               However, if you feel inclined\n",
            "              To get one (to improve your mind,\n",
            "             And not from fashion merely),\n",
            "            Allow no music near its cage;\n",
            "           \n",
            "          And when if flies into a rage\n",
            "         Chastise it, most severely.\n",
            "        \n",
            "       I had an Aunt in Yucatan\n",
            "      Who bought a Python from a man\n",
            "         And kept it for a pet.\n",
            "    She died, because she never knew\n",
            "   These simple little rules and few; -- \n",
            "  \n",
            " The Snake is living yet.\n"
          ]
        }
      ]
    },
    {
      "cell_type": "code",
      "metadata": {
        "colab": {
          "base_uri": "https://localhost:8080/"
        },
        "id": "A5AC5YgA_VJf",
        "outputId": "a7521547-3951-4e7e-f3b6-45b8951eabb8"
      },
      "source": [
        "spacing = 0\n",
        "\n",
        "for i in range(len(poem)):\n",
        "    if spacing == 9:\n",
        "        spacing = 0\n",
        "    print(spacing * ' ' + poem[i])\n",
        "    spacing += 1"
      ],
      "execution_count": null,
      "outputs": [
        {
          "output_type": "stream",
          "name": "stdout",
          "text": [
            "A Python I should not advise, -- \n",
            " It needs a doctor for its eyes,\n",
            "  And has the measles yearly,\n",
            "   \n",
            "    However, if you feel inclined\n",
            "     To get one (to improve your mind,\n",
            "      And not from fashion merely),\n",
            "       Allow no music near its cage;\n",
            "        \n",
            "And when if flies into a rage\n",
            " Chastise it, most severely.\n",
            "  \n",
            "   I had an Aunt in Yucatan\n",
            "    Who bought a Python from a man\n",
            "         And kept it for a pet.\n",
            "      She died, because she never knew\n",
            "       These simple little rules and few; -- \n",
            "        \n",
            "The Snake is living yet.\n"
          ]
        }
      ]
    },
    {
      "cell_type": "code",
      "metadata": {
        "colab": {
          "base_uri": "https://localhost:8080/"
        },
        "id": "rjVgM1kJAS9q",
        "outputId": "9017d415-1a0d-43f6-9ce9-85cf94c91cfd"
      },
      "source": [
        "direction = 1\n",
        "\n",
        "for i in range(len(poem)):\n",
        "    if spacing == 9:\n",
        "        direction = -1\n",
        "    print(spacing * ' ' + poem[i])\n",
        "    spacing += direction"
      ],
      "execution_count": null,
      "outputs": [
        {
          "output_type": "stream",
          "name": "stdout",
          "text": [
            " A Python I should not advise, -- \n",
            "  It needs a doctor for its eyes,\n",
            "   And has the measles yearly,\n",
            "    \n",
            "     However, if you feel inclined\n",
            "      To get one (to improve your mind,\n",
            "       And not from fashion merely),\n",
            "        Allow no music near its cage;\n",
            "         \n",
            "        And when if flies into a rage\n",
            "       Chastise it, most severely.\n",
            "      \n",
            "     I had an Aunt in Yucatan\n",
            "    Who bought a Python from a man\n",
            "       And kept it for a pet.\n",
            "  She died, because she never knew\n",
            " These simple little rules and few; -- \n",
            "\n",
            "The Snake is living yet.\n"
          ]
        }
      ]
    },
    {
      "cell_type": "code",
      "metadata": {
        "colab": {
          "base_uri": "https://localhost:8080/"
        },
        "id": "-qMy3Ymb-lmK",
        "outputId": "bc323825-7aa7-4dd7-ee71-379b07404760"
      },
      "source": [
        "for i in range(len(poem)):\n",
        "    print( i % 2 * '   ' + poem[i])"
      ],
      "execution_count": null,
      "outputs": [
        {
          "output_type": "stream",
          "name": "stdout",
          "text": [
            "A Python I should not advise, -- \n",
            "   It needs a doctor for its eyes,\n",
            "And has the measles yearly,\n",
            "   \n",
            "However, if you feel inclined\n",
            "   To get one (to improve your mind,\n",
            "And not from fashion merely),\n",
            "   Allow no music near its cage;\n",
            "\n",
            "   And when if flies into a rage\n",
            "Chastise it, most severely.\n",
            "   \n",
            "I had an Aunt in Yucatan\n",
            "   Who bought a Python from a man\n",
            "    And kept it for a pet.\n",
            "   She died, because she never knew\n",
            "These simple little rules and few; -- \n",
            "   \n",
            "The Snake is living yet.\n"
          ]
        }
      ]
    },
    {
      "cell_type": "code",
      "metadata": {
        "colab": {
          "base_uri": "https://localhost:8080/"
        },
        "id": "8vaEvvPxKDD8",
        "outputId": "e4cbfd82-564d-4f2e-a94a-daf8ec967573"
      },
      "source": [
        "for line in poem:\n",
        "    words = line.split(' ')\n",
        "    new_line = ''\n",
        "    i = 0\n",
        "\n",
        "    for word in words:\n",
        "        new_line = new_line + word\n",
        "\n",
        "    print(new_line)"
      ],
      "execution_count": null,
      "outputs": [
        {
          "output_type": "stream",
          "name": "stdout",
          "text": [
            "APythonIshouldnotadvise,--\n",
            "Itneedsadoctorforitseyes,\n",
            "Andhasthemeaslesyearly,\n",
            "\n",
            "However,ifyoufeelinclined\n",
            "Togetone(toimproveyourmind,\n",
            "Andnotfromfashionmerely),\n",
            "Allownomusicnearitscage;\n",
            "\n",
            "Andwheniffliesintoarage\n",
            "Chastiseit,mostseverely.\n",
            "\n",
            "IhadanAuntinYucatan\n",
            "WhoboughtaPythonfromaman\n",
            "Andkeptitforapet.\n",
            "Shedied,becausesheneverknew\n",
            "Thesesimplelittlerulesandfew;--\n",
            "\n",
            "TheSnakeislivingyet.\n"
          ]
        }
      ]
    },
    {
      "cell_type": "code",
      "metadata": {
        "colab": {
          "base_uri": "https://localhost:8080/"
        },
        "id": "CqBUAv34-aKk",
        "outputId": "c594be89-c8cc-4c8a-92f8-9507ab3814f1"
      },
      "source": [
        "for line in poem:\n",
        "    new_line = ''\n",
        "\n",
        "    for letter in line:\n",
        "        if letter.isalpha() == False:\n",
        "            new_line = new_line + letter\n",
        "\n",
        "    print(new_line)"
      ],
      "execution_count": null,
      "outputs": [
        {
          "output_type": "stream",
          "name": "stdout",
          "text": [
            "     , -- \n",
            "      ,\n",
            "    ,\n",
            "\n",
            ",    \n",
            "   (   ,\n",
            "    ),\n",
            "     ;\n",
            "\n",
            "      \n",
            " ,  .\n",
            "\n",
            "     \n",
            "      \n",
            "         .\n",
            " ,    \n",
            "     ; -- \n",
            "\n",
            "    .\n"
          ]
        }
      ]
    },
    {
      "cell_type": "code",
      "metadata": {
        "colab": {
          "base_uri": "https://localhost:8080/"
        },
        "id": "A-QSg_hn4qZ5",
        "outputId": "3bd92024-f943-40de-964b-41876adde9dc"
      },
      "source": [
        "for line in poem:\n",
        "    new_line = ''\n",
        "\n",
        "    for word in line.split(' '):\n",
        "        for letter in word:\n",
        "            if letter.isalpha() == False:\n",
        "                new_line = new_line + word\n",
        "                break\n",
        "        new_line = new_line + len(word) * ' '\n",
        "    print(new_line)"
      ],
      "execution_count": null,
      "outputs": [
        {
          "output_type": "stream",
          "name": "stdout",
          "text": [
            "                 advise,       --  \n",
            "                    eyes,     \n",
            "                yearly,       \n",
            "\n",
            "However,                         \n",
            "        (to              mind,     \n",
            "                 merely),        \n",
            "                   cage;     \n",
            "\n",
            "                       \n",
            "        it,       severely.         \n",
            "\n",
            "                   \n",
            "                        \n",
            "             pet.    \n",
            "   died,                        \n",
            "                         few;    --  \n",
            "\n",
            "                yet.    \n"
          ]
        }
      ]
    },
    {
      "cell_type": "code",
      "metadata": {
        "colab": {
          "base_uri": "https://localhost:8080/"
        },
        "id": "lPjs_MDB9uwe",
        "outputId": "6c14c662-ada1-4731-9451-62d9f742dab6"
      },
      "source": [
        "for line in poem:\n",
        "    print(\n",
        "        ''.join([letter for letter in line\n",
        "         if letter.isalpha()])\n",
        "    )"
      ],
      "execution_count": null,
      "outputs": [
        {
          "output_type": "stream",
          "name": "stdout",
          "text": [
            "APythonIshouldnotadvise\n",
            "Itneedsadoctorforitseyes\n",
            "Andhasthemeaslesyearly\n",
            "\n",
            "Howeverifyoufeelinclined\n",
            "Togetonetoimproveyourmind\n",
            "Andnotfromfashionmerely\n",
            "Allownomusicnearitscage\n",
            "\n",
            "Andwheniffliesintoarage\n",
            "Chastiseitmostseverely\n",
            "\n",
            "IhadanAuntinYucatan\n",
            "WhoboughtaPythonfromaman\n",
            "Andkeptitforapet\n",
            "Shediedbecausesheneverknew\n",
            "Thesesimplelittlerulesandfew\n",
            "\n",
            "TheSnakeislivingyet\n"
          ]
        }
      ]
    },
    {
      "cell_type": "code",
      "metadata": {
        "colab": {
          "base_uri": "https://localhost:8080/"
        },
        "id": "kwaIF1WCPkhF",
        "outputId": "15d186ec-cce8-4fb6-8583-bf1d308340d4"
      },
      "source": [
        "for line in poem:\n",
        "    print(line.center(40))"
      ],
      "execution_count": null,
      "outputs": [
        {
          "output_type": "stream",
          "name": "stdout",
          "text": [
            "   A Python I should not advise, --     \n",
            "    It needs a doctor for its eyes,     \n",
            "      And has the measles yearly,       \n",
            "                                        \n",
            "     However, if you feel inclined      \n",
            "   To get one (to improve your mind,    \n",
            "     And not from fashion merely),      \n",
            "     Allow no music near its cage;      \n",
            "                                        \n",
            "     And when if flies into a rage      \n",
            "      Chastise it, most severely.       \n",
            "                                        \n",
            "        I had an Aunt in Yucatan        \n",
            "     Who bought a Python from a man     \n",
            "           And kept it for a pet.       \n",
            "    She died, because she never knew    \n",
            " These simple little rules and few; --  \n",
            "                                        \n",
            "        The Snake is living yet.        \n"
          ]
        }
      ]
    },
    {
      "cell_type": "code",
      "metadata": {
        "colab": {
          "base_uri": "https://localhost:8080/"
        },
        "id": "i4s_hYCSPkYA",
        "outputId": "5a93966f-6653-493a-8146-5b9c3d698791"
      },
      "source": [
        "for line in poem:\n",
        "    print(line.center(40, 'S'))"
      ],
      "execution_count": null,
      "outputs": [
        {
          "output_type": "stream",
          "name": "stdout",
          "text": [
            "SSSA Python I should not advise, -- SSSS\n",
            "SSSSIt needs a doctor for its eyes,SSSSS\n",
            "SSSSSSAnd has the measles yearly,SSSSSSS\n",
            "SSSSSSSSSSSSSSSSSSSSSSSSSSSSSSSSSSSSSSSS\n",
            "SSSSSHowever, if you feel inclinedSSSSSS\n",
            "SSSTo get one (to improve your mind,SSSS\n",
            "SSSSSAnd not from fashion merely),SSSSSS\n",
            "SSSSSAllow no music near its cage;SSSSSS\n",
            "SSSSSSSSSSSSSSSSSSSSSSSSSSSSSSSSSSSSSSSS\n",
            "SSSSSAnd when if flies into a rageSSSSSS\n",
            "SSSSSSChastise it, most severely.SSSSSSS\n",
            "SSSSSSSSSSSSSSSSSSSSSSSSSSSSSSSSSSSSSSSS\n",
            "SSSSSSSSI had an Aunt in YucatanSSSSSSSS\n",
            "SSSSSWho bought a Python from a manSSSSS\n",
            "SSSSSSS    And kept it for a pet.SSSSSSS\n",
            "SSSSShe died, because she never knewSSSS\n",
            "SThese simple little rules and few; -- S\n",
            "SSSSSSSSSSSSSSSSSSSSSSSSSSSSSSSSSSSSSSSS\n",
            "SSSSSSSSThe Snake is living yet.SSSSSSSS\n"
          ]
        }
      ]
    },
    {
      "cell_type": "code",
      "metadata": {
        "colab": {
          "base_uri": "https://localhost:8080/"
        },
        "id": "KS2pjwJZPkUr",
        "outputId": "84b234c4-c21d-44af-f51a-671c070a5940"
      },
      "source": [
        "for line in poem:\n",
        "    print(line.center(40, '~'))"
      ],
      "execution_count": null,
      "outputs": [
        {
          "output_type": "stream",
          "name": "stdout",
          "text": [
            "~~~A Python I should not advise, -- ~~~~\n",
            "~~~~It needs a doctor for its eyes,~~~~~\n",
            "~~~~~~And has the measles yearly,~~~~~~~\n",
            "~~~~~~~~~~~~~~~~~~~~~~~~~~~~~~~~~~~~~~~~\n",
            "~~~~~However, if you feel inclined~~~~~~\n",
            "~~~To get one (to improve your mind,~~~~\n",
            "~~~~~And not from fashion merely),~~~~~~\n",
            "~~~~~Allow no music near its cage;~~~~~~\n",
            "~~~~~~~~~~~~~~~~~~~~~~~~~~~~~~~~~~~~~~~~\n",
            "~~~~~And when if flies into a rage~~~~~~\n",
            "~~~~~~Chastise it, most severely.~~~~~~~\n",
            "~~~~~~~~~~~~~~~~~~~~~~~~~~~~~~~~~~~~~~~~\n",
            "~~~~~~~~I had an Aunt in Yucatan~~~~~~~~\n",
            "~~~~~Who bought a Python from a man~~~~~\n",
            "~~~~~~~    And kept it for a pet.~~~~~~~\n",
            "~~~~She died, because she never knew~~~~\n",
            "~These simple little rules and few; -- ~\n",
            "~~~~~~~~~~~~~~~~~~~~~~~~~~~~~~~~~~~~~~~~\n",
            "~~~~~~~~The Snake is living yet.~~~~~~~~\n"
          ]
        }
      ]
    },
    {
      "cell_type": "code",
      "metadata": {
        "colab": {
          "base_uri": "https://localhost:8080/"
        },
        "id": "nirHThvzRF0o",
        "outputId": "af62ac18-7ecf-4c81-9a9f-3e0d647a94cf"
      },
      "source": [
        "for line in poem:\n",
        "    print(line.rjust(40))"
      ],
      "execution_count": null,
      "outputs": [
        {
          "output_type": "stream",
          "name": "stdout",
          "text": [
            "       A Python I should not advise, -- \n",
            "         It needs a doctor for its eyes,\n",
            "             And has the measles yearly,\n",
            "                                        \n",
            "           However, if you feel inclined\n",
            "       To get one (to improve your mind,\n",
            "           And not from fashion merely),\n",
            "           Allow no music near its cage;\n",
            "                                        \n",
            "           And when if flies into a rage\n",
            "             Chastise it, most severely.\n",
            "                                        \n",
            "                I had an Aunt in Yucatan\n",
            "          Who bought a Python from a man\n",
            "                  And kept it for a pet.\n",
            "        She died, because she never knew\n",
            "  These simple little rules and few; -- \n",
            "                                        \n",
            "                The Snake is living yet.\n"
          ]
        }
      ]
    },
    {
      "cell_type": "code",
      "metadata": {
        "colab": {
          "base_uri": "https://localhost:8080/"
        },
        "id": "_uctyC3hRcx0",
        "outputId": "ddae3018-9c03-449c-ad75-020d13b5d2f0"
      },
      "source": [
        "for line in poem:\n",
        "    print(line.rjust(30))"
      ],
      "execution_count": null,
      "outputs": [
        {
          "output_type": "stream",
          "name": "stdout",
          "text": [
            "A Python I should not advise, -- \n",
            "It needs a doctor for its eyes,\n",
            "   And has the measles yearly,\n",
            "                              \n",
            " However, if you feel inclined\n",
            "To get one (to improve your mind,\n",
            " And not from fashion merely),\n",
            " Allow no music near its cage;\n",
            "                              \n",
            " And when if flies into a rage\n",
            "   Chastise it, most severely.\n",
            "                              \n",
            "      I had an Aunt in Yucatan\n",
            "Who bought a Python from a man\n",
            "        And kept it for a pet.\n",
            "She died, because she never knew\n",
            "These simple little rules and few; -- \n",
            "                              \n",
            "      The Snake is living yet.\n"
          ]
        }
      ]
    },
    {
      "cell_type": "code",
      "metadata": {
        "colab": {
          "base_uri": "https://localhost:8080/"
        },
        "id": "J2X0OhjsSDQI",
        "outputId": "79b0d5b0-e93d-44a6-8b69-00dfef49667c"
      },
      "source": [
        "for i in range(len(poem)):\n",
        "    if i % 2 == 1:\n",
        "        print(poem[i])\n",
        "\n",
        "    if i % 2 == 0:\n",
        "        print(poem[i].rjust(45))\n"
      ],
      "execution_count": null,
      "outputs": [
        {
          "output_type": "stream",
          "name": "stdout",
          "text": [
            "            A Python I should not advise, -- \n",
            "It needs a doctor for its eyes,\n",
            "                  And has the measles yearly,\n",
            "\n",
            "                However, if you feel inclined\n",
            "To get one (to improve your mind,\n",
            "                And not from fashion merely),\n",
            "Allow no music near its cage;\n",
            "                                             \n",
            "And when if flies into a rage\n",
            "                  Chastise it, most severely.\n",
            "\n",
            "                     I had an Aunt in Yucatan\n",
            "Who bought a Python from a man\n",
            "                       And kept it for a pet.\n",
            "She died, because she never knew\n",
            "       These simple little rules and few; -- \n",
            "\n",
            "                     The Snake is living yet.\n"
          ]
        }
      ]
    },
    {
      "cell_type": "code",
      "metadata": {
        "colab": {
          "base_uri": "https://localhost:8080/"
        },
        "id": "1Vs4SRv6U0Ns",
        "outputId": "f3fe5faf-874f-4967-c839-3264a0fd2c59"
      },
      "source": [
        "for line in poem:\n",
        "    print(line.ljust(40, 's'))"
      ],
      "execution_count": null,
      "outputs": [
        {
          "output_type": "stream",
          "name": "stdout",
          "text": [
            "A Python I should not advise, -- sssssss\n",
            "It needs a doctor for its eyes,sssssssss\n",
            "And has the measles yearly,sssssssssssss\n",
            "ssssssssssssssssssssssssssssssssssssssss\n",
            "However, if you feel inclinedsssssssssss\n",
            "To get one (to improve your mind,sssssss\n",
            "And not from fashion merely),sssssssssss\n",
            "Allow no music near its cage;sssssssssss\n",
            "ssssssssssssssssssssssssssssssssssssssss\n",
            "And when if flies into a ragesssssssssss\n",
            "Chastise it, most severely.sssssssssssss\n",
            "ssssssssssssssssssssssssssssssssssssssss\n",
            "I had an Aunt in Yucatanssssssssssssssss\n",
            "Who bought a Python from a manssssssssss\n",
            "    And kept it for a pet.ssssssssssssss\n",
            "She died, because she never knewssssssss\n",
            "These simple little rules and few; -- ss\n",
            "ssssssssssssssssssssssssssssssssssssssss\n",
            "The Snake is living yet.ssssssssssssssss\n"
          ]
        }
      ]
    },
    {
      "cell_type": "code",
      "metadata": {
        "colab": {
          "base_uri": "https://localhost:8080/"
        },
        "id": "LW4P_3dtKYKP",
        "outputId": "f575ff56-1c44-48a9-8299-2b5fe9be6d84"
      },
      "source": [
        "for line in poem:\n",
        "    print(line.replace(' ', '-'))"
      ],
      "execution_count": null,
      "outputs": [
        {
          "output_type": "stream",
          "name": "stdout",
          "text": [
            "A-Python-I-should-not-advise,----\n",
            "It-needs-a-doctor-for-its-eyes,\n",
            "And-has-the-measles-yearly,\n",
            "\n",
            "However,-if-you-feel-inclined\n",
            "To-get-one-(to-improve-your-mind,\n",
            "And-not-from-fashion-merely),\n",
            "Allow-no-music-near-its-cage;\n",
            "\n",
            "And-when-if-flies-into-a-rage\n",
            "Chastise-it,-most-severely.\n",
            "\n",
            "I-had-an-Aunt-in-Yucatan\n",
            "Who-bought-a-Python-from-a-man\n",
            "----And-kept-it-for-a-pet.\n",
            "She-died,-because-she-never-knew\n",
            "These-simple-little-rules-and-few;----\n",
            "\n",
            "The-Snake-is-living-yet.\n"
          ]
        }
      ]
    },
    {
      "cell_type": "code",
      "metadata": {
        "colab": {
          "base_uri": "https://localhost:8080/"
        },
        "id": "ocFiAzGwNvdn",
        "outputId": "0f448d38-efb9-4c0e-8018-77dc2890cdc6"
      },
      "source": [
        "for line in poem:\n",
        "    new_line = ''\n",
        "\n",
        "    for letter in line:\n",
        "        if letter == ' ':\n",
        "            new_line = new_line + '-'\n",
        "        else:\n",
        "            new_line = new_line + ' '\n",
        "\n",
        "    print(new_line)"
      ],
      "execution_count": null,
      "outputs": [
        {
          "output_type": "stream",
          "name": "stdout",
          "text": [
            " -      - -      -   -       -  -\n",
            "  -     - -      -   -   -     \n",
            "   -   -   -       -       \n",
            "\n",
            "        -  -   -    -        \n",
            "  -   -   -   -       -    -     \n",
            "   -   -    -       -        \n",
            "     -  -     -    -   -     \n",
            "\n",
            "   -    -  -     -    - -    \n",
            "        -   -    -         \n",
            "\n",
            " -   -  -    -  -       \n",
            "   -      - -      -    - -   \n",
            "----   -    -  -   - -    \n",
            "   -     -       -   -     -    \n",
            "     -      -      -     -   -    -  -\n",
            "\n",
            "   -     -  -      -    \n"
          ]
        }
      ]
    },
    {
      "cell_type": "code",
      "metadata": {
        "colab": {
          "base_uri": "https://localhost:8080/"
        },
        "id": "Efckthh9Objb",
        "outputId": "fa1c306d-b6bc-46f0-be7e-fc65d8149dc1"
      },
      "source": [
        "for line in poem:\n",
        "    new_line = ''\n",
        "\n",
        "    for letter in line:\n",
        "        if letter == ' ':\n",
        "            new_line = new_line + '-'\n",
        "        else:\n",
        "            new_line = new_line + ' '\n",
        "\n",
        "    print(new_line.ljust(40, '='))"
      ],
      "execution_count": null,
      "outputs": [
        {
          "output_type": "stream",
          "name": "stdout",
          "text": [
            " -      - -      -   -       -  -=======\n",
            "  -     - -      -   -   -     =========\n",
            "   -   -   -       -       =============\n",
            "========================================\n",
            "        -  -   -    -        ===========\n",
            "  -   -   -   -       -    -     =======\n",
            "   -   -    -       -        ===========\n",
            "     -  -     -    -   -     ===========\n",
            "========================================\n",
            "   -    -  -     -    - -    ===========\n",
            "        -   -    -         =============\n",
            "========================================\n",
            " -   -  -    -  -       ================\n",
            "   -      - -      -    - -   ==========\n",
            "----   -    -  -   - -    ==============\n",
            "   -     -       -   -     -    ========\n",
            "     -      -      -     -   -    -  -==\n",
            "========================================\n",
            "   -     -  -      -    ================\n"
          ]
        }
      ]
    },
    {
      "cell_type": "code",
      "metadata": {
        "colab": {
          "base_uri": "https://localhost:8080/"
        },
        "id": "e7GfbdK4O1jt",
        "outputId": "980bed3a-cdf2-4c10-be71-1f135c8cb628"
      },
      "source": [
        "for line in poem:\n",
        "    print(line.replace(' ', '\\t'))"
      ],
      "execution_count": null,
      "outputs": [
        {
          "output_type": "stream",
          "name": "stdout",
          "text": [
            "A\tPython\tI\tshould\tnot\tadvise,\t--\t\n",
            "It\tneeds\ta\tdoctor\tfor\tits\teyes,\n",
            "And\thas\tthe\tmeasles\tyearly,\n",
            "\n",
            "However,\tif\tyou\tfeel\tinclined\n",
            "To\tget\tone\t(to\timprove\tyour\tmind,\n",
            "And\tnot\tfrom\tfashion\tmerely),\n",
            "Allow\tno\tmusic\tnear\tits\tcage;\n",
            "\n",
            "And\twhen\tif\tflies\tinto\ta\trage\n",
            "Chastise\tit,\tmost\tseverely.\n",
            "\n",
            "I\thad\tan\tAunt\tin\tYucatan\n",
            "Who\tbought\ta\tPython\tfrom\ta\tman\n",
            "\t\t\t\tAnd\tkept\tit\tfor\ta\tpet.\n",
            "She\tdied,\tbecause\tshe\tnever\tknew\n",
            "These\tsimple\tlittle\trules\tand\tfew;\t--\t\n",
            "\n",
            "The\tSnake\tis\tliving\tyet.\n"
          ]
        }
      ]
    },
    {
      "cell_type": "code",
      "metadata": {
        "colab": {
          "base_uri": "https://localhost:8080/"
        },
        "id": "Px3z9Q3HPEv3",
        "outputId": "a159d3f8-b55d-4bdb-a6bd-bfd35471ad53"
      },
      "source": [
        "print(block.replace('\\n', '\\t'))"
      ],
      "execution_count": null,
      "outputs": [
        {
          "output_type": "stream",
          "name": "stdout",
          "text": [
            "A Python I should not advise, -- \tIt needs a doctor for its eyes,\tAnd has the measles yearly,\t\tHowever, if you feel inclined\tTo get one (to improve your mind,\tAnd not from fashion merely),\tAllow no music near its cage;\t\tAnd when if flies into a rage\tChastise it, most severely.\t\tI had an Aunt in Yucatan\tWho bought a Python from a man\t    And kept it for a pet.\tShe died, because she never knew\tThese simple little rules and few; -- \t\tThe Snake is living yet.\n"
          ]
        }
      ]
    },
    {
      "cell_type": "code",
      "metadata": {
        "colab": {
          "base_uri": "https://localhost:8080/"
        },
        "id": "UzjwZWwv-3B-",
        "outputId": "817bad83-739e-44e3-f6ab-52b40fd7da1a"
      },
      "source": [
        "for line in poem:\n",
        "    new_line = ''\n",
        "    for letter in line:\n",
        "        new_line = new_line + letter + ' '\n",
        "    print(new_line)"
      ],
      "execution_count": null,
      "outputs": [
        {
          "output_type": "stream",
          "name": "stdout",
          "text": [
            "A   P y t h o n   I   s h o u l d   n o t   a d v i s e ,   - -   \n",
            "I t   n e e d s   a   d o c t o r   f o r   i t s   e y e s , \n",
            "A n d   h a s   t h e   m e a s l e s   y e a r l y , \n",
            "\n",
            "H o w e v e r ,   i f   y o u   f e e l   i n c l i n e d \n",
            "T o   g e t   o n e   ( t o   i m p r o v e   y o u r   m i n d , \n",
            "A n d   n o t   f r o m   f a s h i o n   m e r e l y ) , \n",
            "A l l o w   n o   m u s i c   n e a r   i t s   c a g e ; \n",
            "\n",
            "A n d   w h e n   i f   f l i e s   i n t o   a   r a g e \n",
            "C h a s t i s e   i t ,   m o s t   s e v e r e l y . \n",
            "\n",
            "I   h a d   a n   A u n t   i n   Y u c a t a n \n",
            "W h o   b o u g h t   a   P y t h o n   f r o m   a   m a n \n",
            "        A n d   k e p t   i t   f o r   a   p e t . \n",
            "S h e   d i e d ,   b e c a u s e   s h e   n e v e r   k n e w \n",
            "T h e s e   s i m p l e   l i t t l e   r u l e s   a n d   f e w ;   - -   \n",
            "\n",
            "T h e   S n a k e   i s   l i v i n g   y e t . \n"
          ]
        }
      ]
    },
    {
      "cell_type": "code",
      "metadata": {
        "colab": {
          "base_uri": "https://localhost:8080/"
        },
        "id": "Z_drkjhEBXUi",
        "outputId": "4e259005-e0fa-48b5-dc9d-86477aaa3bb4"
      },
      "source": [
        "for line in poem:\n",
        "    print(line.upper())"
      ],
      "execution_count": null,
      "outputs": [
        {
          "output_type": "stream",
          "name": "stdout",
          "text": [
            "A PYTHON I SHOULD NOT ADVISE, -- \n",
            "IT NEEDS A DOCTOR FOR ITS EYES,\n",
            "AND HAS THE MEASLES YEARLY,\n",
            "\n",
            "HOWEVER, IF YOU FEEL INCLINED\n",
            "TO GET ONE (TO IMPROVE YOUR MIND,\n",
            "AND NOT FROM FASHION MERELY),\n",
            "ALLOW NO MUSIC NEAR ITS CAGE;\n",
            "\n",
            "AND WHEN IF FLIES INTO A RAGE\n",
            "CHASTISE IT, MOST SEVERELY.\n",
            "\n",
            "I HAD AN AUNT IN YUCATAN\n",
            "WHO BOUGHT A PYTHON FROM A MAN\n",
            "    AND KEPT IT FOR A PET.\n",
            "SHE DIED, BECAUSE SHE NEVER KNEW\n",
            "THESE SIMPLE LITTLE RULES AND FEW; -- \n",
            "\n",
            "THE SNAKE IS LIVING YET.\n"
          ]
        }
      ]
    },
    {
      "cell_type": "code",
      "metadata": {
        "colab": {
          "base_uri": "https://localhost:8080/"
        },
        "id": "1uAZ0vKVCFcQ",
        "outputId": "0b1b22be-52f0-4ddb-c0a7-020a4a7f424e"
      },
      "source": [
        "for line in poem:\n",
        "    print(line.lower())"
      ],
      "execution_count": null,
      "outputs": [
        {
          "output_type": "stream",
          "name": "stdout",
          "text": [
            "a python i should not advise, -- \n",
            "it needs a doctor for its eyes,\n",
            "and has the measles yearly,\n",
            "\n",
            "however, if you feel inclined\n",
            "to get one (to improve your mind,\n",
            "and not from fashion merely),\n",
            "allow no music near its cage;\n",
            "\n",
            "and when if flies into a rage\n",
            "chastise it, most severely.\n",
            "\n",
            "i had an aunt in yucatan\n",
            "who bought a python from a man\n",
            "    and kept it for a pet.\n",
            "she died, because she never knew\n",
            "these simple little rules and few; -- \n",
            "\n",
            "the snake is living yet.\n"
          ]
        }
      ]
    },
    {
      "cell_type": "code",
      "metadata": {
        "colab": {
          "base_uri": "https://localhost:8080/"
        },
        "id": "nUo-e5P7CIi1",
        "outputId": "66fd49b2-9534-4882-a241-eb423d24d6fb"
      },
      "source": [
        "for line in poem:\n",
        "    print(line.capitalize())"
      ],
      "execution_count": null,
      "outputs": [
        {
          "output_type": "stream",
          "name": "stdout",
          "text": [
            "A python i should not advise, -- \n",
            "It needs a doctor for its eyes,\n",
            "And has the measles yearly,\n",
            "\n",
            "However, if you feel inclined\n",
            "To get one (to improve your mind,\n",
            "And not from fashion merely),\n",
            "Allow no music near its cage;\n",
            "\n",
            "And when if flies into a rage\n",
            "Chastise it, most severely.\n",
            "\n",
            "I had an aunt in yucatan\n",
            "Who bought a python from a man\n",
            "    and kept it for a pet.\n",
            "She died, because she never knew\n",
            "These simple little rules and few; -- \n",
            "\n",
            "The snake is living yet.\n"
          ]
        }
      ]
    },
    {
      "cell_type": "code",
      "metadata": {
        "colab": {
          "base_uri": "https://localhost:8080/"
        },
        "id": "pXmqNKxACK_A",
        "outputId": "a4029c52-40e6-43ea-f6ea-ee6654c3ac65"
      },
      "source": [
        "for line in poem:\n",
        "    print(line.title())"
      ],
      "execution_count": null,
      "outputs": [
        {
          "output_type": "stream",
          "name": "stdout",
          "text": [
            "A Python I Should Not Advise, -- \n",
            "It Needs A Doctor For Its Eyes,\n",
            "And Has The Measles Yearly,\n",
            "\n",
            "However, If You Feel Inclined\n",
            "To Get One (To Improve Your Mind,\n",
            "And Not From Fashion Merely),\n",
            "Allow No Music Near Its Cage;\n",
            "\n",
            "And When If Flies Into A Rage\n",
            "Chastise It, Most Severely.\n",
            "\n",
            "I Had An Aunt In Yucatan\n",
            "Who Bought A Python From A Man\n",
            "    And Kept It For A Pet.\n",
            "She Died, Because She Never Knew\n",
            "These Simple Little Rules And Few; -- \n",
            "\n",
            "The Snake Is Living Yet.\n"
          ]
        }
      ]
    },
    {
      "cell_type": "code",
      "metadata": {
        "colab": {
          "base_uri": "https://localhost:8080/"
        },
        "id": "enRl5R0XQG9F",
        "outputId": "7da0b3a8-4dc2-4335-c872-b9b0aaed28ce"
      },
      "source": [
        "for line in poem:\n",
        "    print(line.swapcase())"
      ],
      "execution_count": null,
      "outputs": [
        {
          "output_type": "stream",
          "name": "stdout",
          "text": [
            "a pYTHON i SHOULD NOT ADVISE, -- \n",
            "iT NEEDS A DOCTOR FOR ITS EYES,\n",
            "aND HAS THE MEASLES YEARLY,\n",
            "\n",
            "hOWEVER, IF YOU FEEL INCLINED\n",
            "tO GET ONE (TO IMPROVE YOUR MIND,\n",
            "aND NOT FROM FASHION MERELY),\n",
            "aLLOW NO MUSIC NEAR ITS CAGE;\n",
            "\n",
            "aND WHEN IF FLIES INTO A RAGE\n",
            "cHASTISE IT, MOST SEVERELY.\n",
            "\n",
            "i HAD AN aUNT IN yUCATAN\n",
            "wHO BOUGHT A pYTHON FROM A MAN\n",
            "    aND KEPT IT FOR A PET.\n",
            "sHE DIED, BECAUSE SHE NEVER KNEW\n",
            "tHESE SIMPLE LITTLE RULES AND FEW; -- \n",
            "\n",
            "tHE sNAKE IS LIVING YET.\n"
          ]
        }
      ]
    },
    {
      "cell_type": "code",
      "metadata": {
        "colab": {
          "base_uri": "https://localhost:8080/"
        },
        "id": "0ByO1y3VCOQN",
        "outputId": "4ce6ed29-ce97-471f-d512-b668b7b609fc"
      },
      "source": [
        "for line in poem:\n",
        "    new_line = ''\n",
        "\n",
        "    for i in range(len(line)):\n",
        "       if i % 2 == 1:\n",
        "           new_line = new_line + line[i].upper()\n",
        "       if i % 2 == 0:\n",
        "           new_line = new_line + line[i].lower()\n",
        "\n",
        "    print(new_line)"
      ],
      "execution_count": null,
      "outputs": [
        {
          "output_type": "stream",
          "name": "stdout",
          "text": [
            "a pYtHoN I ShOuLd nOt aDvIsE, -- \n",
            "iT NeEdS A DoCtOr fOr iTs eYeS,\n",
            "aNd hAs tHe mEaSlEs yEaRlY,\n",
            "\n",
            "hOwEvEr, If yOu fEeL InClInEd\n",
            "tO GeT OnE (tO ImPrOvE YoUr mInD,\n",
            "aNd nOt fRoM FaShIoN MeReLy),\n",
            "aLlOw nO MuSiC NeAr iTs cAgE;\n",
            "\n",
            "aNd wHeN If fLiEs iNtO A RaGe\n",
            "cHaStIsE It, MoSt sEvErElY.\n",
            "\n",
            "i hAd aN AuNt iN YuCaTaN\n",
            "wHo bOuGhT A PyThOn fRoM A MaN\n",
            "    aNd kEpT It fOr a pEt.\n",
            "sHe dIeD, bEcAuSe sHe nEvEr kNeW\n",
            "tHeSe sImPlE LiTtLe rUlEs aNd fEw; -- \n",
            "\n",
            "tHe sNaKe iS LiViNg yEt.\n"
          ]
        }
      ]
    },
    {
      "cell_type": "code",
      "metadata": {
        "colab": {
          "base_uri": "https://localhost:8080/"
        },
        "id": "7XiD1z8lDXYU",
        "outputId": "08ff2d01-ac32-4f41-d47f-16b74beb0fa9"
      },
      "source": [
        "for l in range(len(poem)):\n",
        "    new_line = ''\n",
        "    offset = l % 2\n",
        "    line = poem[l]\n",
        "\n",
        "    for i in range(len(poem[l])):\n",
        "       if (offset + i) % 2 == 1:\n",
        "           new_line = new_line + line[i].upper()\n",
        "       if (offset + i) % 2 == 0:\n",
        "           new_line = new_line + line[i].lower()\n",
        "\n",
        "    print(new_line)"
      ],
      "execution_count": null,
      "outputs": [
        {
          "output_type": "stream",
          "name": "stdout",
          "text": [
            "a pYtHoN I ShOuLd nOt aDvIsE, -- \n",
            "It nEeDs a dOcToR FoR ItS EyEs,\n",
            "aNd hAs tHe mEaSlEs yEaRlY,\n",
            "\n",
            "hOwEvEr, If yOu fEeL InClInEd\n",
            "To gEt oNe (To iMpRoVe yOuR MiNd,\n",
            "aNd nOt fRoM FaShIoN MeReLy),\n",
            "AlLoW No mUsIc nEaR ItS CaGe;\n",
            "\n",
            "AnD WhEn iF FlIeS InTo a rAgE\n",
            "cHaStIsE It, MoSt sEvErElY.\n",
            "\n",
            "i hAd aN AuNt iN YuCaTaN\n",
            "WhO BoUgHt a pYtHoN FrOm a mAn\n",
            "    aNd kEpT It fOr a pEt.\n",
            "ShE DiEd, BeCaUsE ShE NeVeR KnEw\n",
            "tHeSe sImPlE LiTtLe rUlEs aNd fEw; -- \n",
            "\n",
            "tHe sNaKe iS LiViNg yEt.\n"
          ]
        }
      ]
    },
    {
      "cell_type": "code",
      "metadata": {
        "colab": {
          "base_uri": "https://localhost:8080/"
        },
        "id": "L15aQHAvJgqS",
        "outputId": "2b775f8c-3e48-410c-b4ae-b88407aad13e"
      },
      "source": [
        "for line in poem:\n",
        "    words = line.split(' ')\n",
        "    new_line = ''\n",
        "    i = 0\n",
        "\n",
        "    for word in words:\n",
        "        new_line = new_line + word.capitalize()\n",
        "\n",
        "    print(new_line)"
      ],
      "execution_count": null,
      "outputs": [
        {
          "output_type": "stream",
          "name": "stdout",
          "text": [
            "APythonIShouldNotAdvise,--\n",
            "ItNeedsADoctorForItsEyes,\n",
            "AndHasTheMeaslesYearly,\n",
            "\n",
            "However,IfYouFeelInclined\n",
            "ToGetOne(toImproveYourMind,\n",
            "AndNotFromFashionMerely),\n",
            "AllowNoMusicNearItsCage;\n",
            "\n",
            "AndWhenIfFliesIntoARage\n",
            "ChastiseIt,MostSeverely.\n",
            "\n",
            "IHadAnAuntInYucatan\n",
            "WhoBoughtAPythonFromAMan\n",
            "AndKeptItForAPet.\n",
            "SheDied,BecauseSheNeverKnew\n",
            "TheseSimpleLittleRulesAndFew;--\n",
            "\n",
            "TheSnakeIsLivingYet.\n"
          ]
        }
      ]
    },
    {
      "cell_type": "code",
      "metadata": {
        "colab": {
          "base_uri": "https://localhost:8080/"
        },
        "id": "1zkG5xCMHln3",
        "outputId": "4575e9f0-98d8-4fd3-e0dc-be0dfa710639"
      },
      "source": [
        "for line in poem:\n",
        "    line = line.split(' ')\n",
        "    new_line = ''\n",
        "    i = 0\n",
        "\n",
        "    for word in line:\n",
        "        if i == 0:\n",
        "            new_line = (new_line\n",
        "                        + word.upper())\n",
        "            i = 1\n",
        "\n",
        "        elif i == 1:\n",
        "            new_line = (new_line\n",
        "                        + word.lower())\n",
        "            i = 0\n",
        "\n",
        "    print(new_line)"
      ],
      "execution_count": null,
      "outputs": [
        {
          "output_type": "stream",
          "name": "stdout",
          "text": [
            "ApythonIshouldNOTadvise,--\n",
            "ITneedsAdoctorFORitsEYES,\n",
            "ANDhasTHEmeaslesYEARLY,\n",
            "\n",
            "HOWEVER,ifYOUfeelINCLINED\n",
            "TOgetONE(toIMPROVEyourMIND,\n",
            "ANDnotFROMfashionMERELY),\n",
            "ALLOWnoMUSICnearITScage;\n",
            "\n",
            "ANDwhenIFfliesINTOaRAGE\n",
            "CHASTISEit,MOSTseverely.\n",
            "\n",
            "IhadANauntINyucatan\n",
            "WHOboughtApythonFROMaMAN\n",
            "ANDkeptITforApet.\n",
            "SHEdied,BECAUSEsheNEVERknew\n",
            "THESEsimpleLITTLErulesANDfew;--\n",
            "\n",
            "THEsnakeISlivingYET.\n"
          ]
        }
      ]
    },
    {
      "cell_type": "code",
      "metadata": {
        "colab": {
          "base_uri": "https://localhost:8080/"
        },
        "id": "4c-pF4KwFcpn",
        "outputId": "0585d56c-2180-4587-84b7-911a5fcce200"
      },
      "source": [
        "for line in poem:\n",
        "    words = line.split(' ')\n",
        "    new_line = ''\n",
        "    i = 0\n",
        "\n",
        "    for word in words:\n",
        "        if i == 0:\n",
        "            new_line = new_line + word.upper() + ' '\n",
        "            i = 1\n",
        "\n",
        "        elif i == 1:\n",
        "            new_line = new_line + word.lower() + ' '\n",
        "            i = 0\n",
        "\n",
        "    print(new_line)"
      ],
      "execution_count": null,
      "outputs": [
        {
          "output_type": "stream",
          "name": "stdout",
          "text": [
            "A python I should NOT advise, --  \n",
            "IT needs A doctor FOR its EYES, \n",
            "AND has THE measles YEARLY, \n",
            " \n",
            "HOWEVER, if YOU feel INCLINED \n",
            "TO get ONE (to IMPROVE your MIND, \n",
            "AND not FROM fashion MERELY), \n",
            "ALLOW no MUSIC near ITS cage; \n",
            " \n",
            "AND when IF flies INTO a RAGE \n",
            "CHASTISE it, MOST severely. \n",
            " \n",
            "I had AN aunt IN yucatan \n",
            "WHO bought A python FROM a MAN \n",
            "    AND kept IT for A pet. \n",
            "SHE died, BECAUSE she NEVER knew \n",
            "THESE simple LITTLE rules AND few; --  \n",
            " \n",
            "THE snake IS living YET. \n"
          ]
        }
      ]
    },
    {
      "cell_type": "code",
      "metadata": {
        "colab": {
          "base_uri": "https://localhost:8080/"
        },
        "id": "DivQ9PRmJoMv",
        "outputId": "0cba4ffe-6948-474c-fbbc-33d0edfff942"
      },
      "source": [
        "for line in poem:\n",
        "    words = line.split(' ')\n",
        "    new_line = ''\n",
        "    i = 1\n",
        "\n",
        "    for word in words:\n",
        "        if i == 0:\n",
        "            new_line = new_line + word.upper() + ' '\n",
        "            i = 1\n",
        "\n",
        "        elif i == 1:\n",
        "            new_line = new_line + word.lower() + ' '\n",
        "            i = 0\n",
        "\n",
        "    print(new_line)"
      ],
      "execution_count": null,
      "outputs": [
        {
          "output_type": "stream",
          "name": "stdout",
          "text": [
            "a PYTHON i SHOULD not ADVISE, --  \n",
            "it NEEDS a DOCTOR for ITS eyes, \n",
            "and HAS the MEASLES yearly, \n",
            " \n",
            "however, IF you FEEL inclined \n",
            "to GET one (TO improve YOUR mind, \n",
            "and NOT from FASHION merely), \n",
            "allow NO music NEAR its CAGE; \n",
            " \n",
            "and WHEN if FLIES into A rage \n",
            "chastise IT, most SEVERELY. \n",
            " \n",
            "i HAD an AUNT in YUCATAN \n",
            "who BOUGHT a PYTHON from A man \n",
            "    and KEPT it FOR a PET. \n",
            "she DIED, because SHE never KNEW \n",
            "these SIMPLE little RULES and FEW; --  \n",
            " \n",
            "the SNAKE is LIVING yet. \n"
          ]
        }
      ]
    },
    {
      "cell_type": "code",
      "metadata": {
        "colab": {
          "base_uri": "https://localhost:8080/"
        },
        "id": "VtPK_O7n8ccO",
        "outputId": "908f11aa-76c4-48ac-d17b-7c95539ae7a4"
      },
      "source": [
        "for line in poem:\n",
        "    new_line = ''\n",
        "\n",
        "    for word in line.split(' '):\n",
        "        new_line = new_line + 's' + word + ' '\n",
        "\n",
        "    print(new_line)"
      ],
      "execution_count": null,
      "outputs": [
        {
          "output_type": "stream",
          "name": "stdout",
          "text": [
            "sA sPython sI sshould snot sadvise, s-- s \n",
            "sIt sneeds sa sdoctor sfor sits seyes, \n",
            "sAnd shas sthe smeasles syearly, \n",
            "s \n",
            "sHowever, sif syou sfeel sinclined \n",
            "sTo sget sone s(to simprove syour smind, \n",
            "sAnd snot sfrom sfashion smerely), \n",
            "sAllow sno smusic snear sits scage; \n",
            "s \n",
            "sAnd swhen sif sflies sinto sa srage \n",
            "sChastise sit, smost sseverely. \n",
            "s \n",
            "sI shad san sAunt sin sYucatan \n",
            "sWho sbought sa sPython sfrom sa sman \n",
            "s s s s sAnd skept sit sfor sa spet. \n",
            "sShe sdied, sbecause sshe snever sknew \n",
            "sThese ssimple slittle srules sand sfew; s-- s \n",
            "s \n",
            "sThe sSnake sis sliving syet. \n"
          ]
        }
      ]
    },
    {
      "cell_type": "code",
      "metadata": {
        "colab": {
          "base_uri": "https://localhost:8080/"
        },
        "id": "ESMZ06gQS3wS",
        "outputId": "269cd3fe-a88c-41df-b3e2-23eeefda6cdf"
      },
      "source": [
        "for line in poem:\n",
        "    new_line = ''\n",
        "\n",
        "    for letter in line:\n",
        "        if letter in ('s', 'S'):\n",
        "            new_line = new_line + letter\n",
        "\n",
        "    print(new_line)"
      ],
      "execution_count": null,
      "outputs": [
        {
          "output_type": "stream",
          "name": "stdout",
          "text": [
            "ss\n",
            "sss\n",
            "sss\n",
            "\n",
            "\n",
            "\n",
            "s\n",
            "ss\n",
            "\n",
            "s\n",
            "ssss\n",
            "\n",
            "\n",
            "\n",
            "\n",
            "Sss\n",
            "sss\n",
            "\n",
            "Ss\n"
          ]
        }
      ]
    },
    {
      "cell_type": "code",
      "metadata": {
        "colab": {
          "base_uri": "https://localhost:8080/"
        },
        "id": "sEzwi9vPTa7B",
        "outputId": "6b427d63-28b9-40ce-e213-6b3077cdeff3"
      },
      "source": [
        "for line in poem:\n",
        "    new_line = ''\n",
        "\n",
        "    for letter in line:\n",
        "        if letter in ('s', 'S'):\n",
        "            new_line = new_line + letter\n",
        "\n",
        "        elif letter.isalpha():\n",
        "            new_line = new_line + '~'\n",
        "\n",
        "        else: \n",
        "            new_line = new_line + letter\n",
        "\n",
        "    print(new_line)"
      ],
      "execution_count": null,
      "outputs": [
        {
          "output_type": "stream",
          "name": "stdout",
          "text": [
            "~ ~~~~~~ ~ s~~~~~ ~~~ ~~~~s~, -- \n",
            "~~ ~~~~s ~ ~~~~~~ ~~~ ~~s ~~~s,\n",
            "~~~ ~~s ~~~ ~~~s~~s ~~~~~~,\n",
            "\n",
            "~~~~~~~, ~~ ~~~ ~~~~ ~~~~~~~~\n",
            "~~ ~~~ ~~~ (~~ ~~~~~~~ ~~~~ ~~~~,\n",
            "~~~ ~~~ ~~~~ ~~s~~~~ ~~~~~~),\n",
            "~~~~~ ~~ ~~s~~ ~~~~ ~~s ~~~~;\n",
            "\n",
            "~~~ ~~~~ ~~ ~~~~s ~~~~ ~ ~~~~\n",
            "~~~s~~s~ ~~, ~~s~ s~~~~~~~.\n",
            "\n",
            "~ ~~~ ~~ ~~~~ ~~ ~~~~~~~\n",
            "~~~ ~~~~~~ ~ ~~~~~~ ~~~~ ~ ~~~\n",
            "    ~~~ ~~~~ ~~ ~~~ ~ ~~~.\n",
            "S~~ ~~~~, ~~~~~s~ s~~ ~~~~~ ~~~~\n",
            "~~~s~ s~~~~~ ~~~~~~ ~~~~s ~~~ ~~~; -- \n",
            "\n",
            "~~~ S~~~~ ~s ~~~~~~ ~~~.\n"
          ]
        }
      ]
    },
    {
      "cell_type": "code",
      "metadata": {
        "colab": {
          "base_uri": "https://localhost:8080/"
        },
        "id": "5pjSpQR7L430",
        "outputId": "5dab462d-55c1-414a-bf1b-f6a21f2b2b88"
      },
      "source": [
        "for line in poem:\n",
        "    print(line.replace('s', 'S'))"
      ],
      "execution_count": null,
      "outputs": [
        {
          "output_type": "stream",
          "name": "stdout",
          "text": [
            "A Python I Should not adviSe, -- \n",
            "It needS a doctor for itS eyeS,\n",
            "And haS the meaSleS yearly,\n",
            "\n",
            "However, if you feel inclined\n",
            "To get one (to improve your mind,\n",
            "And not from faShion merely),\n",
            "Allow no muSic near itS cage;\n",
            "\n",
            "And when if flieS into a rage\n",
            "ChaStiSe it, moSt Severely.\n",
            "\n",
            "I had an Aunt in Yucatan\n",
            "Who bought a Python from a man\n",
            "    And kept it for a pet.\n",
            "She died, becauSe She never knew\n",
            "TheSe Simple little ruleS and few; -- \n",
            "\n",
            "The Snake iS living yet.\n"
          ]
        }
      ]
    },
    {
      "cell_type": "code",
      "metadata": {
        "colab": {
          "base_uri": "https://localhost:8080/"
        },
        "id": "zO0IXsIrMD2Y",
        "outputId": "3e7cd33a-936b-4101-cc85-6338176ac00e"
      },
      "source": [
        "for line in poem:\n",
        "    line = line.replace('s', 'sss').replace('S', 'SSS')\n",
        "\n",
        "    print(line)"
      ],
      "execution_count": null,
      "outputs": [
        {
          "output_type": "stream",
          "name": "stdout",
          "text": [
            "A Python I ssshould not advissse, -- \n",
            "It needsss a doctor for itsss eyesss,\n",
            "And hasss the meassslesss yearly,\n",
            "\n",
            "However, if you feel inclined\n",
            "To get one (to improve your mind,\n",
            "And not from fassshion merely),\n",
            "Allow no musssic near itsss cage;\n",
            "\n",
            "And when if fliesss into a rage\n",
            "Chassstissse it, mossst ssseverely.\n",
            "\n",
            "I had an Aunt in Yucatan\n",
            "Who bought a Python from a man\n",
            "    And kept it for a pet.\n",
            "SSShe died, becaussse ssshe never knew\n",
            "Thessse sssimple little rulesss and few; -- \n",
            "\n",
            "The SSSnake isss living yet.\n"
          ]
        }
      ]
    },
    {
      "cell_type": "code",
      "metadata": {
        "colab": {
          "base_uri": "https://localhost:8080/"
        },
        "id": "SRFrLUeiKsGm",
        "outputId": "ddfbfccb-a60f-4b36-e38e-684fdfeee391"
      },
      "source": [
        "for line in poem:\n",
        "    print(line.replace('Python', 'XXXXXXX'))"
      ],
      "execution_count": null,
      "outputs": [
        {
          "output_type": "stream",
          "name": "stdout",
          "text": [
            "A XXXXXXX I should not advise, -- \n",
            "It needs a doctor for its eyes,\n",
            "And has the measles yearly,\n",
            "\n",
            "However, if you feel inclined\n",
            "To get one (to improve your mind,\n",
            "And not from fashion merely),\n",
            "Allow no music near its cage;\n",
            "\n",
            "And when if flies into a rage\n",
            "Chastise it, most severely.\n",
            "\n",
            "I had an Aunt in Yucatan\n",
            "Who bought a XXXXXXX from a man\n",
            "    And kept it for a pet.\n",
            "She died, because she never knew\n",
            "These simple little rules and few; -- \n",
            "\n",
            "The Snake is living yet.\n"
          ]
        }
      ]
    },
    {
      "cell_type": "code",
      "metadata": {
        "colab": {
          "base_uri": "https://localhost:8080/"
        },
        "id": "rt_Y3sLwXpzi",
        "outputId": "046599aa-fe7d-42cb-e547-72585659d2d1"
      },
      "source": [
        "for line in poem:\n",
        "    print(line.replace(' it', ' the snake'))"
      ],
      "execution_count": null,
      "outputs": [
        {
          "output_type": "stream",
          "name": "stdout",
          "text": [
            "A Python I should not advise, -- \n",
            "It needs a doctor for the snakes eyes,\n",
            "And has the measles yearly,\n",
            "\n",
            "However, if you feel inclined\n",
            "To get one (to improve your mind,\n",
            "And not from fashion merely),\n",
            "Allow no music near the snakes cage;\n",
            "\n",
            "And when if flies into a rage\n",
            "Chastise the snake, most severely.\n",
            "\n",
            "I had an Aunt in Yucatan\n",
            "Who bought a Python from a man\n",
            "    And kept the snake for a pet.\n",
            "She died, because she never knew\n",
            "These simple little rules and few; -- \n",
            "\n",
            "The Snake is living yet.\n"
          ]
        }
      ]
    },
    {
      "cell_type": "code",
      "metadata": {
        "colab": {
          "base_uri": "https://localhost:8080/"
        },
        "id": "oz-DmuMLOq5m",
        "outputId": "daf0915a-0e5a-4309-dbc7-c1ea1373c5d8"
      },
      "source": [
        "for line in poem:\n",
        "    new_line = ''\n",
        "\n",
        "    for letter in line:\n",
        "        if letter is not ' ':\n",
        "            new_line = new_line + 'x'\n",
        "\n",
        "        else:\n",
        "            new_line = new_line + letter\n",
        "\n",
        "    print(new_line)"
      ],
      "execution_count": null,
      "outputs": [
        {
          "output_type": "stream",
          "name": "stdout",
          "text": [
            "x xxxxxx x xxxxxx xxx xxxxxxx xx \n",
            "xx xxxxx x xxxxxx xxx xxx xxxxx\n",
            "xxx xxx xxx xxxxxxx xxxxxxx\n",
            "\n",
            "xxxxxxxx xx xxx xxxx xxxxxxxx\n",
            "xx xxx xxx xxx xxxxxxx xxxx xxxxx\n",
            "xxx xxx xxxx xxxxxxx xxxxxxxx\n",
            "xxxxx xx xxxxx xxxx xxx xxxxx\n",
            "\n",
            "xxx xxxx xx xxxxx xxxx x xxxx\n",
            "xxxxxxxx xxx xxxx xxxxxxxxx\n",
            "\n",
            "x xxx xx xxxx xx xxxxxxx\n",
            "xxx xxxxxx x xxxxxx xxxx x xxx\n",
            "    xxx xxxx xx xxx x xxxx\n",
            "xxx xxxxx xxxxxxx xxx xxxxx xxxx\n",
            "xxxxx xxxxxx xxxxxx xxxxx xxx xxxx xx \n",
            "\n",
            "xxx xxxxx xx xxxxxx xxxx\n"
          ]
        }
      ]
    },
    {
      "cell_type": "code",
      "metadata": {
        "colab": {
          "base_uri": "https://localhost:8080/"
        },
        "id": "spnTh1WdLDSb",
        "outputId": "983f0e91-6fb3-46c6-a8d9-37eb5f248fea"
      },
      "source": [
        "for line in poem:\n",
        "    new_line = ''\n",
        "\n",
        "    for letter in line:\n",
        "        if letter.isalpha() and letter.isupper():\n",
        "            new_line = new_line + 'S'\n",
        "\n",
        "        elif letter.isalpha() and letter.islower():\n",
        "            new_line = new_line + 's'\n",
        "        \n",
        "        else:\n",
        "            new_line = new_line + letter\n",
        "\n",
        "    print(new_line)"
      ],
      "execution_count": null,
      "outputs": [
        {
          "output_type": "stream",
          "name": "stdout",
          "text": [
            "S Ssssss S ssssss sss ssssss, -- \n",
            "Ss sssss s ssssss sss sss ssss,\n",
            "Sss sss sss sssssss ssssss,\n",
            "\n",
            "Sssssss, ss sss ssss ssssssss\n",
            "Ss sss sss (ss sssssss ssss ssss,\n",
            "Sss sss ssss sssssss ssssss),\n",
            "Sssss ss sssss ssss sss ssss;\n",
            "\n",
            "Sss ssss ss sssss ssss s ssss\n",
            "Ssssssss ss, ssss ssssssss.\n",
            "\n",
            "S sss ss Ssss ss Sssssss\n",
            "Sss ssssss s Ssssss ssss s sss\n",
            "    Sss ssss ss sss s sss.\n",
            "Sss ssss, sssssss sss sssss ssss\n",
            "Sssss ssssss ssssss sssss sss sss; -- \n",
            "\n",
            "Sss Sssss ss ssssss sss.\n"
          ]
        }
      ]
    },
    {
      "cell_type": "code",
      "metadata": {
        "colab": {
          "base_uri": "https://localhost:8080/"
        },
        "id": "hdPNWDHoOXgV",
        "outputId": "eea24e3b-ec5d-4d5d-d596-0dafa46f0a3e"
      },
      "source": [
        "for line in poem:\n",
        "    print(line + (len(line) % 4) * '~')"
      ],
      "execution_count": null,
      "outputs": [
        {
          "output_type": "stream",
          "name": "stdout",
          "text": [
            "A Python I should not advise, -- ~\n",
            "It needs a doctor for its eyes,~~~\n",
            "And has the measles yearly,~~~\n",
            "\n",
            "However, if you feel inclined~\n",
            "To get one (to improve your mind,~\n",
            "And not from fashion merely),~\n",
            "Allow no music near its cage;~\n",
            "\n",
            "And when if flies into a rage~\n",
            "Chastise it, most severely.~~~\n",
            "\n",
            "I had an Aunt in Yucatan\n",
            "Who bought a Python from a man~~\n",
            "    And kept it for a pet.~~\n",
            "She died, because she never knew\n",
            "These simple little rules and few; -- ~~\n",
            "\n",
            "The Snake is living yet.\n"
          ]
        }
      ]
    },
    {
      "cell_type": "code",
      "metadata": {
        "colab": {
          "base_uri": "https://localhost:8080/"
        },
        "id": "IpezdJVuUcXZ",
        "outputId": "87f56e71-d1ca-4a8c-bec0-e83aaa93fb2b"
      },
      "source": [
        "for line in poem:\n",
        "    words = line.split(' ')\n",
        "    new_line = ''\n",
        "\n",
        "    for word in words:\n",
        "        if len(word) <= 3:\n",
        "            new_line = new_line + word + ' '\n",
        "\n",
        "    print(new_line)"
      ],
      "execution_count": null,
      "outputs": [
        {
          "output_type": "stream",
          "name": "stdout",
          "text": [
            "A I not --  \n",
            "It a for its \n",
            "And has the \n",
            " \n",
            "if you \n",
            "To get one (to \n",
            "And not \n",
            "no its \n",
            " \n",
            "And if a \n",
            "it, \n",
            " \n",
            "I had an in \n",
            "Who a a man \n",
            "    And it for a \n",
            "She she \n",
            "and --  \n",
            " \n",
            "The is \n"
          ]
        }
      ]
    },
    {
      "cell_type": "code",
      "metadata": {
        "colab": {
          "base_uri": "https://localhost:8080/"
        },
        "id": "Q6mFYOMrWAR_",
        "outputId": "54330a06-cb17-4ed0-863b-889d80dec81f"
      },
      "source": [
        "for line in poem:\n",
        "    words = line.split(' ')\n",
        "    new_line = ''\n",
        "\n",
        "    for word in words:\n",
        "        if len(word) >= 5:\n",
        "            new_line = new_line + word + ' '\n",
        "\n",
        "    print(new_line)"
      ],
      "execution_count": null,
      "outputs": [
        {
          "output_type": "stream",
          "name": "stdout",
          "text": [
            "Python should advise, \n",
            "needs doctor eyes, \n",
            "measles yearly, \n",
            "\n",
            "However, inclined \n",
            "improve mind, \n",
            "fashion merely), \n",
            "Allow music cage; \n",
            "\n",
            "flies \n",
            "Chastise severely. \n",
            "\n",
            "Yucatan \n",
            "bought Python \n",
            "\n",
            "died, because never \n",
            "These simple little rules \n",
            "\n",
            "Snake living \n"
          ]
        }
      ]
    },
    {
      "cell_type": "code",
      "metadata": {
        "colab": {
          "base_uri": "https://localhost:8080/"
        },
        "id": "VuFP_FDDWNBH",
        "outputId": "f000153b-902e-43f6-ef8f-9db29de80a3a"
      },
      "source": [
        "for line in poem:\n",
        "    new_line = ''\n",
        "\n",
        "    for letter in line:\n",
        "        if letter.lower() in ('a', 'e', 'i', 'o', 'u'):\n",
        "            new_line = new_line + letter\n",
        "\n",
        "    print(new_line)"
      ],
      "execution_count": null,
      "outputs": [
        {
          "output_type": "stream",
          "name": "stdout",
          "text": [
            "AoIouoaie\n",
            "Ieeaoooiee\n",
            "Aaeeaeea\n",
            "\n",
            "oeeioueeiie\n",
            "oeoeoioeoui\n",
            "Aooaioee\n",
            "Aoouieaiae\n",
            "\n",
            "Aeiieioaae\n",
            "aieioeee\n",
            "\n",
            "IaaAuiuaa\n",
            "oouaooaa\n",
            "Aeioae\n",
            "eieeaueeeee\n",
            "eeieieueae\n",
            "\n",
            "eaeiiie\n"
          ]
        }
      ]
    },
    {
      "cell_type": "code",
      "metadata": {
        "colab": {
          "base_uri": "https://localhost:8080/"
        },
        "id": "s58LXbKVIyhS",
        "outputId": "43e825de-2f63-40f1-c4b3-a9315102f8be"
      },
      "source": [
        "for line in poem:\n",
        "    new_line = ''\n",
        "\n",
        "    for letter in line:\n",
        "        if letter.lower() in ('a', 'e', 'i', 'o', 'u'):\n",
        "            letter = letter * 3\n",
        "        \n",
        "        new_line = new_line + letter\n",
        "\n",
        "    print(new_line)"
      ],
      "execution_count": null,
      "outputs": [
        {
          "output_type": "stream",
          "name": "stdout",
          "text": [
            "AAA Pythooon III shooouuuld nooot aaadviiiseee, -- \n",
            "IIIt neeeeeeds aaa doooctooor fooor iiits eeeyeees,\n",
            "AAAnd haaas theee meeeaaasleees yeeeaaarly,\n",
            "\n",
            "Hoooweeeveeer, iiif yooouuu feeeeeel iiincliiineeed\n",
            "Tooo geeet oooneee (tooo iiimproooveee yooouuur miiind,\n",
            "AAAnd nooot frooom faaashiiiooon meeereeely),\n",
            "AAAllooow nooo muuusiiic neeeaaar iiits caaageee;\n",
            "\n",
            "AAAnd wheeen iiif fliiieees iiintooo aaa raaageee\n",
            "Chaaastiiiseee iiit, mooost seeeveeereeely.\n",
            "\n",
            "III haaad aaan AAAuuunt iiin Yuuucaaataaan\n",
            "Whooo booouuught aaa Pythooon frooom aaa maaan\n",
            "    AAAnd keeept iiit fooor aaa peeet.\n",
            "Sheee diiieeed, beeecaaauuuseee sheee neeeveeer kneeew\n",
            "Theeeseee siiimpleee liiittleee ruuuleees aaand feeew; -- \n",
            "\n",
            "Theee Snaaakeee iiis liiiviiing yeeet.\n"
          ]
        }
      ]
    },
    {
      "cell_type": "code",
      "metadata": {
        "colab": {
          "base_uri": "https://localhost:8080/"
        },
        "id": "Ut-OaqqDYtIb",
        "outputId": "1d2ef528-735e-4a1d-f974-95467d6f898a"
      },
      "source": [
        "for line in poem:\n",
        "    new_line = ''\n",
        "\n",
        "    for letter in line:\n",
        "        if letter.lower() not in 'aeiou':\n",
        "            new_line = new_line + letter\n",
        "\n",
        "    print(new_line)"
      ],
      "execution_count": null,
      "outputs": [
        {
          "output_type": "stream",
          "name": "stdout",
          "text": [
            " Pythn  shld nt dvs, -- \n",
            "t nds  dctr fr ts ys,\n",
            "nd hs th msls yrly,\n",
            "\n",
            "Hwvr, f y fl nclnd\n",
            "T gt n (t mprv yr mnd,\n",
            "nd nt frm fshn mrly),\n",
            "llw n msc nr ts cg;\n",
            "\n",
            "nd whn f fls nt  rg\n",
            "Chsts t, mst svrly.\n",
            "\n",
            " hd n nt n Yctn\n",
            "Wh bght  Pythn frm  mn\n",
            "    nd kpt t fr  pt.\n",
            "Sh dd, bcs sh nvr knw\n",
            "Ths smpl lttl rls nd fw; -- \n",
            "\n",
            "Th Snk s lvng yt.\n"
          ]
        }
      ]
    },
    {
      "cell_type": "code",
      "metadata": {
        "colab": {
          "base_uri": "https://localhost:8080/"
        },
        "id": "uWbwgb7xbLEw",
        "outputId": "5aae8002-8744-4790-e8ef-21a5c6a7d5fd"
      },
      "source": [
        "for line in poem:\n",
        "    new_line = ''\n",
        "\n",
        "    for letter in line:\n",
        "        if letter.lower() in ('a', 'e', 'i', 'o', 'u'):\n",
        "            new_line = new_line + '~'\n",
        "        else:\n",
        "            new_line = new_line + letter\n",
        "\n",
        "    print(new_line)"
      ],
      "execution_count": null,
      "outputs": [
        {
          "output_type": "stream",
          "name": "stdout",
          "text": [
            "~ Pyth~n ~ sh~~ld n~t ~dv~s~, -- \n",
            "~t n~~ds ~ d~ct~r f~r ~ts ~y~s,\n",
            "~nd h~s th~ m~~sl~s y~~rly,\n",
            "\n",
            "H~w~v~r, ~f y~~ f~~l ~ncl~n~d\n",
            "T~ g~t ~n~ (t~ ~mpr~v~ y~~r m~nd,\n",
            "~nd n~t fr~m f~sh~~n m~r~ly),\n",
            "~ll~w n~ m~s~c n~~r ~ts c~g~;\n",
            "\n",
            "~nd wh~n ~f fl~~s ~nt~ ~ r~g~\n",
            "Ch~st~s~ ~t, m~st s~v~r~ly.\n",
            "\n",
            "~ h~d ~n ~~nt ~n Y~c~t~n\n",
            "Wh~ b~~ght ~ Pyth~n fr~m ~ m~n\n",
            "    ~nd k~pt ~t f~r ~ p~t.\n",
            "Sh~ d~~d, b~c~~s~ sh~ n~v~r kn~w\n",
            "Th~s~ s~mpl~ l~ttl~ r~l~s ~nd f~w; -- \n",
            "\n",
            "Th~ Sn~k~ ~s l~v~ng y~t.\n"
          ]
        }
      ]
    },
    {
      "cell_type": "code",
      "metadata": {
        "colab": {
          "base_uri": "https://localhost:8080/"
        },
        "id": "XUwfdctEn6za",
        "outputId": "ff494053-3039-43bf-fe31-97ac461d4f77"
      },
      "source": [
        "for line in poem:\n",
        "    new_line = ''\n",
        "\n",
        "    for word in line.split(' '):\n",
        "        if len(word) == 0:\n",
        "            continue\n",
        "\n",
        "        elif len(word) == 1:\n",
        "            new_line = new_line + word + ' '\n",
        "            \n",
        "        else:\n",
        "            new_line = (new_line +\n",
        "                        word[0] +\n",
        "                        ('*' * (len(word) -2)) +\n",
        "                        word[-1] + ' ' \n",
        "                        )\n",
        "    \n",
        "    print(new_line)"
      ],
      "execution_count": null,
      "outputs": [
        {
          "output_type": "stream",
          "name": "stdout",
          "text": [
            "A P****n I s****d n*t a*****, -- \n",
            "It n***s a d****r f*r i*s e***, \n",
            "A*d h*s t*e m*****s y*****, \n",
            "\n",
            "H******, if y*u f**l i******d \n",
            "To g*t o*e (*o i*****e y**r m***, \n",
            "A*d n*t f**m f*****n m******, \n",
            "A***w no m***c n**r i*s c***; \n",
            "\n",
            "A*d w**n if f***s i**o a r**e \n",
            "C******e i*, m**t s*******. \n",
            "\n",
            "I h*d an A**t in Y*****n \n",
            "W*o b****t a P****n f**m a m*n \n",
            "A*d k**t it f*r a p**. \n",
            "S*e d***, b*****e s*e n***r k**w \n",
            "T***e s****e l****e r***s a*d f**; -- \n",
            "\n",
            "T*e S***e is l****g y**. \n"
          ]
        }
      ]
    },
    {
      "cell_type": "code",
      "metadata": {
        "colab": {
          "base_uri": "https://localhost:8080/"
        },
        "id": "KdORNKUvyW2r",
        "outputId": "7c2a1909-1707-4b25-e390-344591ac1ed2"
      },
      "source": [
        "for line in sorted(poem):\n",
        "    print(line)"
      ],
      "execution_count": null,
      "outputs": [
        {
          "output_type": "stream",
          "name": "stdout",
          "text": [
            "\n",
            "\n",
            "\n",
            "\n",
            "    And kept it for a pet.\n",
            "A Python I should not advise, -- \n",
            "Allow no music near its cage;\n",
            "And has the measles yearly,\n",
            "And not from fashion merely),\n",
            "And when if flies into a rage\n",
            "Chastise it, most severely.\n",
            "However, if you feel inclined\n",
            "I had an Aunt in Yucatan\n",
            "It needs a doctor for its eyes,\n",
            "She died, because she never knew\n",
            "The Snake is living yet.\n",
            "These simple little rules and few; -- \n",
            "To get one (to improve your mind,\n",
            "Who bought a Python from a man\n"
          ]
        }
      ]
    },
    {
      "cell_type": "code",
      "metadata": {
        "colab": {
          "base_uri": "https://localhost:8080/"
        },
        "id": "8TkCAvYIB8dQ",
        "outputId": "39cde6f4-6645-454f-c0cb-1152dda35cb4"
      },
      "source": [
        "for line in sorted(poem, key= lambda line: line[::-1]):\n",
        "    print(line.rjust(40))"
      ],
      "execution_count": null,
      "outputs": [
        {
          "output_type": "stream",
          "name": "stdout",
          "text": [
            "                                        \n",
            "                                        \n",
            "                                        \n",
            "                                        \n",
            "       A Python I should not advise, -- \n",
            "  These simple little rules and few; -- \n",
            "           And not from fashion merely),\n",
            "       To get one (to improve your mind,\n",
            "         It needs a doctor for its eyes,\n",
            "             And has the measles yearly,\n",
            "                  And kept it for a pet.\n",
            "                The Snake is living yet.\n",
            "             Chastise it, most severely.\n",
            "           Allow no music near its cage;\n",
            "           However, if you feel inclined\n",
            "           And when if flies into a rage\n",
            "          Who bought a Python from a man\n",
            "                I had an Aunt in Yucatan\n",
            "        She died, because she never knew\n"
          ]
        }
      ]
    },
    {
      "cell_type": "code",
      "metadata": {
        "colab": {
          "base_uri": "https://localhost:8080/"
        },
        "id": "Qi5FAxtWCPG1",
        "outputId": "df212307-90df-411b-8dae-fe2291059335"
      },
      "source": [
        "for line in sorted(poem,\n",
        "        key= lambda line:\n",
        "        ''.join([letter for letter in line \n",
        "                 if letter.isalpha()])[::-1]):\n",
        "    print(line.rjust(40))"
      ],
      "execution_count": null,
      "outputs": [
        {
          "output_type": "stream",
          "name": "stdout",
          "text": [
            "                                        \n",
            "                                        \n",
            "                                        \n",
            "                                        \n",
            "           However, if you feel inclined\n",
            "       To get one (to improve your mind,\n",
            "           Allow no music near its cage;\n",
            "           And when if flies into a rage\n",
            "       A Python I should not advise, -- \n",
            "          Who bought a Python from a man\n",
            "                I had an Aunt in Yucatan\n",
            "         It needs a doctor for its eyes,\n",
            "                  And kept it for a pet.\n",
            "                The Snake is living yet.\n",
            "  These simple little rules and few; -- \n",
            "        She died, because she never knew\n",
            "           And not from fashion merely),\n",
            "             Chastise it, most severely.\n",
            "             And has the measles yearly,\n"
          ]
        }
      ]
    },
    {
      "cell_type": "code",
      "metadata": {
        "colab": {
          "base_uri": "https://localhost:8080/"
        },
        "id": "cRA8Gh0W_y24",
        "outputId": "e64044fd-2468-4739-c7ec-ecc5d64e9ab1"
      },
      "source": [
        "for line in sorted(poem, key = len):\n",
        "    print(line)"
      ],
      "execution_count": null,
      "outputs": [
        {
          "output_type": "stream",
          "name": "stdout",
          "text": [
            "\n",
            "\n",
            "\n",
            "\n",
            "I had an Aunt in Yucatan\n",
            "The Snake is living yet.\n",
            "    And kept it for a pet.\n",
            "And has the measles yearly,\n",
            "Chastise it, most severely.\n",
            "However, if you feel inclined\n",
            "And not from fashion merely),\n",
            "Allow no music near its cage;\n",
            "And when if flies into a rage\n",
            "Who bought a Python from a man\n",
            "It needs a doctor for its eyes,\n",
            "She died, because she never knew\n",
            "A Python I should not advise, -- \n",
            "To get one (to improve your mind,\n",
            "These simple little rules and few; -- \n"
          ]
        }
      ]
    },
    {
      "cell_type": "code",
      "metadata": {
        "colab": {
          "base_uri": "https://localhost:8080/"
        },
        "id": "IBGJ6Dzlmo4J",
        "outputId": "70456736-9c1b-4df0-96df-5a6c7bdaf2b1"
      },
      "source": [
        "letters = ''.join(all_words)\n",
        "\n",
        "for line in [sorted(letters)[i:i+20]\n",
        "             for i in range(0, len(letters), 20)]:\n",
        "    print(*line, ' ')\n"
      ],
      "execution_count": null,
      "outputs": [
        {
          "output_type": "stream",
          "name": "stdout",
          "text": [
            "( ) , , , , , , , , - - - - . . . ; ; A  \n",
            "A A A A A A C H I I I P P S S T T T W Y  \n",
            "a a a a a a a a a a a a a a a a a a a a  \n",
            "a a b b c c c c c c d d d d d d d d d d  \n",
            "d d d d e e e e e e e e e e e e e e e e  \n",
            "e e e e e e e e e e e e e e e e e e e e  \n",
            "e e e e e e e e e e e f f f f f f f f f  \n",
            "f g g g g g h h h h h h h h h h h h h h  \n",
            "h i i i i i i i i i i i i i i i i i i i  \n",
            "i i i i k k k l l l l l l l l l l l l l  \n",
            "l l m m m m m m m m m m n n n n n n n n  \n",
            "n n n n n n n n n n n n n n n n n n n n  \n",
            "o o o o o o o o o o o o o o o o o o o o  \n",
            "o o o o o p p p p r r r r r r r r r r r  \n",
            "r r r r s s s s s s s s s s s s s s s s  \n",
            "s s s s s s t t t t t t t t t t t t t t  \n",
            "t t t t t t t t t t u u u u u u u u u v  \n",
            "v v v v v w w w w w y y y y y y y y y y  \n"
          ]
        }
      ]
    },
    {
      "cell_type": "code",
      "metadata": {
        "colab": {
          "base_uri": "https://localhost:8080/"
        },
        "id": "3Gv65Uvg7nsT",
        "outputId": "141e6bc8-0413-47fd-b2eb-689eb893e9da"
      },
      "source": [
        "letters = ' '.join(all_words)\n",
        "\n",
        "for line in [letters[i:i+33]\n",
        "             for i in range(0, len(letters), 33)]:\n",
        "    print(line)"
      ],
      "execution_count": null,
      "outputs": [
        {
          "output_type": "stream",
          "name": "stdout",
          "text": [
            "A Python I should not advise, -- \n",
            " It needs a doctor for its eyes, \n",
            "And has the measles yearly,  Howe\n",
            "ver, if you feel inclined To get \n",
            "one (to improve your mind, And no\n",
            "t from fashion merely), Allow no \n",
            "music near its cage;  And when if\n",
            " flies into a rage Chastise it, m\n",
            "ost severely.  I had an Aunt in Y\n",
            "ucatan Who bought a Python from a\n",
            " man     And kept it for a pet. S\n",
            "he died, because she never knew T\n",
            "hese simple little rules and few;\n",
            " --   The Snake is living yet.\n"
          ]
        }
      ]
    },
    {
      "cell_type": "code",
      "metadata": {
        "colab": {
          "base_uri": "https://localhost:8080/"
        },
        "id": "ELynXj8el-fo",
        "outputId": "4e90cbfa-fe55-4d76-ae2b-a318b8d58401"
      },
      "source": [
        "new_line = ''\n",
        "for word in sorted(all_words,\n",
        "                   key = lambda word : word.lower()):\n",
        "    \n",
        "    if len(new_line) < 30:\n",
        "        new_line = new_line + word + ' '\n",
        "    else:\n",
        "        print(new_line)\n",
        "        new_line = ''\n",
        "    "
      ],
      "execution_count": null,
      "outputs": [
        {
          "output_type": "stream",
          "name": "stdout",
          "text": [
            "          (to -- -- A a a a a \n",
            "advise, Allow an And And And And \n",
            "Aunt because bought cage; Chastise \n",
            "doctor eyes, fashion feel few; \n",
            "for for from from get had has \n",
            "I I if if improve in inclined \n",
            "is It it it, its its kept knew \n",
            "living man measles merely), mind, \n",
            "music near needs never no not \n",
            "one pet. Python Python rage rules \n",
            "She she should simple Snake the \n",
            "These To when Who yearly, yet. \n"
          ]
        }
      ]
    },
    {
      "cell_type": "code",
      "metadata": {
        "colab": {
          "base_uri": "https://localhost:8080/"
        },
        "id": "s1edc-rEltaB",
        "outputId": "07b67377-766c-444f-e1ff-187164c072b6"
      },
      "source": [
        "new_line = ''\n",
        "for word in sorted(all_words, key = len):\n",
        "    \n",
        "    if len(new_line) < 30:\n",
        "        new_line = new_line + word + ' '\n",
        "    else:\n",
        "        print(new_line)\n",
        "        new_line = ''"
      ],
      "execution_count": null,
      "outputs": [
        {
          "output_type": "stream",
          "name": "stdout",
          "text": [
            "          A I a a I a a a -- It \n",
            "To no if an in it -- is not for \n",
            "And has the you get one (to And \n",
            "its And it, had Who man And for \n",
            "she and The feel your from near \n",
            "into rage most Aunt from kept \n",
            "knew few; yet. needs eyes, mind, \n",
            "music cage; flies died, never \n",
            "rules Snake Python should doctor \n",
            "Python simple little living advise, \n",
            "yearly, improve fashion Yucatan \n",
            "However, inclined merely), Chastise \n"
          ]
        }
      ]
    },
    {
      "cell_type": "code",
      "metadata": {
        "colab": {
          "base_uri": "https://localhost:8080/"
        },
        "id": "3rrbRD_cBceP",
        "outputId": "f787ba6e-c2f9-4950-a53e-4e5a3d430c38"
      },
      "source": [
        "for line in poem:\n",
        "    print(*sorted(line.split(' ')), ' ')"
      ],
      "execution_count": null,
      "outputs": [
        {
          "output_type": "stream",
          "name": "stdout",
          "text": [
            " -- A I Python advise, not should  \n",
            "It a doctor eyes, for its needs  \n",
            "And has measles the yearly,  \n",
            "  \n",
            "However, feel if inclined you  \n",
            "(to To get improve mind, one your  \n",
            "And fashion from merely), not  \n",
            "Allow cage; its music near no  \n",
            "  \n",
            "And a flies if into rage when  \n",
            "Chastise it, most severely.  \n",
            "  \n",
            "Aunt I Yucatan an had in  \n",
            "Python Who a a bought from man  \n",
            "    And a for it kept pet.  \n",
            "She because died, knew never she  \n",
            " -- These and few; little rules simple  \n",
            "  \n",
            "Snake The is living yet.  \n"
          ]
        }
      ]
    },
    {
      "cell_type": "code",
      "metadata": {
        "colab": {
          "base_uri": "https://localhost:8080/"
        },
        "id": "hWf5aNf-D-wp",
        "outputId": "980f66a4-dce9-486e-b8ab-6da853c230ac"
      },
      "source": [
        "for line in poem:\n",
        "    print(*sorted(line.split(' '), key = len), ' ')"
      ],
      "execution_count": null,
      "outputs": [
        {
          "output_type": "stream",
          "name": "stdout",
          "text": [
            " A I -- not Python should advise,  \n",
            "a It for its needs eyes, doctor  \n",
            "And has the measles yearly,  \n",
            "  \n",
            "if you feel However, inclined  \n",
            "To get one (to your mind, improve  \n",
            "And not from fashion merely),  \n",
            "no its near Allow music cage;  \n",
            "  \n",
            "a if And when into rage flies  \n",
            "it, most Chastise severely.  \n",
            "  \n",
            "I an in had Aunt Yucatan  \n",
            "a a Who man from bought Python  \n",
            "    a it And for kept pet.  \n",
            "She she knew died, never because  \n",
            " -- and few; These rules simple little  \n",
            "  \n",
            "is The yet. Snake living  \n"
          ]
        }
      ]
    },
    {
      "cell_type": "code",
      "metadata": {
        "colab": {
          "base_uri": "https://localhost:8080/"
        },
        "id": "gXyijV90DMGS",
        "outputId": "acbbd0ec-3485-4da0-f073-b20ea30f9996"
      },
      "source": [
        "for line in poem:\n",
        "    print(*sorted(line.split(' '),\n",
        "                  key = len, reverse = True), ' ')"
      ],
      "execution_count": null,
      "outputs": [
        {
          "output_type": "stream",
          "name": "stdout",
          "text": [
            "advise, Python should not -- A I   \n",
            "doctor needs eyes, for its It a  \n",
            "measles yearly, And has the  \n",
            "  \n",
            "However, inclined feel you if  \n",
            "improve mind, your get one (to To  \n",
            "merely), fashion from And not  \n",
            "Allow music cage; near its no  \n",
            "  \n",
            "flies when into rage And if a  \n",
            "severely. Chastise most it,  \n",
            "  \n",
            "Yucatan Aunt had an in I  \n",
            "bought Python from Who man a a  \n",
            "kept pet. And for it a      \n",
            "because died, never knew She she  \n",
            "simple little These rules few; and --   \n",
            "  \n",
            "living Snake yet. The is  \n"
          ]
        }
      ]
    },
    {
      "cell_type": "code",
      "metadata": {
        "colab": {
          "base_uri": "https://localhost:8080/"
        },
        "id": "-mM8KMqRHTjs",
        "outputId": "fd9a4985-6409-4f3b-9719-eed95efc2f7a"
      },
      "source": [
        "for line in poem:\n",
        "    new_line = []\n",
        "\n",
        "    for word in line.split(' '):\n",
        "        new_line.append(word == 'Python'\n",
        "                        or word == 'Snake')\n",
        "    print(new_line)"
      ],
      "execution_count": null,
      "outputs": [
        {
          "output_type": "stream",
          "name": "stdout",
          "text": [
            "[False, True, False, False, False, False, False, False]\n",
            "[False, False, False, False, False, False, False]\n",
            "[False, False, False, False, False]\n",
            "[False]\n",
            "[False, False, False, False, False]\n",
            "[False, False, False, False, False, False, False]\n",
            "[False, False, False, False, False]\n",
            "[False, False, False, False, False, False]\n",
            "[False]\n",
            "[False, False, False, False, False, False, False]\n",
            "[False, False, False, False]\n",
            "[False]\n",
            "[False, False, False, False, False, False]\n",
            "[False, False, False, True, False, False, False]\n",
            "[False, False, False, False, False, False, False, False, False, False]\n",
            "[False, False, False, False, False, False]\n",
            "[False, False, False, False, False, False, False, False]\n",
            "[False]\n",
            "[False, True, False, False, False]\n"
          ]
        }
      ]
    },
    {
      "cell_type": "code",
      "metadata": {
        "colab": {
          "base_uri": "https://localhost:8080/"
        },
        "id": "GLtck55MDZfp",
        "outputId": "8a9bdad0-ae20-4f03-9c0e-f0ff226d4ae6"
      },
      "source": [
        "print(*[len(line) for line in poem], sep = '\\n')\n"
      ],
      "execution_count": null,
      "outputs": [
        {
          "output_type": "stream",
          "name": "stdout",
          "text": [
            "33\n",
            "31\n",
            "27\n",
            "0\n",
            "29\n",
            "33\n",
            "29\n",
            "29\n",
            "0\n",
            "29\n",
            "27\n",
            "0\n",
            "24\n",
            "30\n",
            "26\n",
            "32\n",
            "38\n",
            "0\n",
            "24\n"
          ]
        }
      ]
    },
    {
      "cell_type": "code",
      "metadata": {
        "colab": {
          "base_uri": "https://localhost:8080/"
        },
        "id": "omJWFNNPGA1X",
        "outputId": "8b44953b-7274-4316-88bb-0cddc427ed76"
      },
      "source": [
        "for line in poem:\n",
        "    print(*[len(word) \n",
        "            for word \n",
        "            in line.split(' ')], \n",
        "            sep = ' ')"
      ],
      "execution_count": null,
      "outputs": [
        {
          "output_type": "stream",
          "name": "stdout",
          "text": [
            "1 6 1 6 3 7 2 0\n",
            "2 5 1 6 3 3 5\n",
            "3 3 3 7 7\n",
            "0\n",
            "8 2 3 4 8\n",
            "2 3 3 3 7 4 5\n",
            "3 3 4 7 8\n",
            "5 2 5 4 3 5\n",
            "0\n",
            "3 4 2 5 4 1 4\n",
            "8 3 4 9\n",
            "0\n",
            "1 3 2 4 2 7\n",
            "3 6 1 6 4 1 3\n",
            "0 0 0 0 3 4 2 3 1 4\n",
            "3 5 7 3 5 4\n",
            "5 6 6 5 3 4 2 0\n",
            "0\n",
            "3 5 2 6 4\n"
          ]
        }
      ]
    },
    {
      "cell_type": "code",
      "metadata": {
        "colab": {
          "base_uri": "https://localhost:8080/"
        },
        "id": "p2Wmypu2Gay9",
        "outputId": "1f158cca-3d89-4d2b-a71b-4fbc3124e458"
      },
      "source": [
        "for line in poem:\n",
        "    print(line.count('S') + line.count('s'))"
      ],
      "execution_count": null,
      "outputs": [
        {
          "output_type": "stream",
          "name": "stdout",
          "text": [
            "2\n",
            "3\n",
            "3\n",
            "0\n",
            "0\n",
            "0\n",
            "1\n",
            "2\n",
            "0\n",
            "1\n",
            "4\n",
            "0\n",
            "0\n",
            "0\n",
            "0\n",
            "3\n",
            "3\n",
            "0\n",
            "2\n"
          ]
        }
      ]
    },
    {
      "cell_type": "code",
      "metadata": {
        "colab": {
          "base_uri": "https://localhost:8080/"
        },
        "id": "pRA5PyQOSZIC",
        "outputId": "0dada7f0-3fdc-4518-cefc-2f75fec3d15f"
      },
      "source": [
        "new_line = []\n",
        "\n",
        "for letter in block:\n",
        "    new_line.append(ord(letter))\n",
        "\n",
        "print(*new_line, sep = ' ')"
      ],
      "execution_count": null,
      "outputs": [
        {
          "output_type": "stream",
          "name": "stdout",
          "text": [
            "65 32 80 121 116 104 111 110 32 73 32 115 104 111 117 108 100 32 110 111 116 32 97 100 118 105 115 101 44 32 45 45 32 10 73 116 32 110 101 101 100 115 32 97 32 100 111 99 116 111 114 32 102 111 114 32 105 116 115 32 101 121 101 115 44 10 65 110 100 32 104 97 115 32 116 104 101 32 109 101 97 115 108 101 115 32 121 101 97 114 108 121 44 10 10 72 111 119 101 118 101 114 44 32 105 102 32 121 111 117 32 102 101 101 108 32 105 110 99 108 105 110 101 100 10 84 111 32 103 101 116 32 111 110 101 32 40 116 111 32 105 109 112 114 111 118 101 32 121 111 117 114 32 109 105 110 100 44 10 65 110 100 32 110 111 116 32 102 114 111 109 32 102 97 115 104 105 111 110 32 109 101 114 101 108 121 41 44 10 65 108 108 111 119 32 110 111 32 109 117 115 105 99 32 110 101 97 114 32 105 116 115 32 99 97 103 101 59 10 10 65 110 100 32 119 104 101 110 32 105 102 32 102 108 105 101 115 32 105 110 116 111 32 97 32 114 97 103 101 10 67 104 97 115 116 105 115 101 32 105 116 44 32 109 111 115 116 32 115 101 118 101 114 101 108 121 46 10 10 73 32 104 97 100 32 97 110 32 65 117 110 116 32 105 110 32 89 117 99 97 116 97 110 10 87 104 111 32 98 111 117 103 104 116 32 97 32 80 121 116 104 111 110 32 102 114 111 109 32 97 32 109 97 110 10 32 32 32 32 65 110 100 32 107 101 112 116 32 105 116 32 102 111 114 32 97 32 112 101 116 46 10 83 104 101 32 100 105 101 100 44 32 98 101 99 97 117 115 101 32 115 104 101 32 110 101 118 101 114 32 107 110 101 119 10 84 104 101 115 101 32 115 105 109 112 108 101 32 108 105 116 116 108 101 32 114 117 108 101 115 32 97 110 100 32 102 101 119 59 32 45 45 32 10 10 84 104 101 32 83 110 97 107 101 32 105 115 32 108 105 118 105 110 103 32 121 101 116 46\n"
          ]
        }
      ]
    },
    {
      "cell_type": "code",
      "metadata": {
        "colab": {
          "base_uri": "https://localhost:8080/"
        },
        "id": "JJqksRssTHiX",
        "outputId": "26c4a2df-8e63-4e15-999f-10cbdc9a189f"
      },
      "source": [
        "new_line = []\n",
        "\n",
        "for letter in block:\n",
        "    new_line.append(hex(ord(letter))[2:])\n",
        "\n",
        "print(*new_line, sep = ' ')"
      ],
      "execution_count": null,
      "outputs": [
        {
          "output_type": "stream",
          "name": "stdout",
          "text": [
            "41 20 50 79 74 68 6f 6e 20 49 20 73 68 6f 75 6c 64 20 6e 6f 74 20 61 64 76 69 73 65 2c 20 2d 2d 20 a 49 74 20 6e 65 65 64 73 20 61 20 64 6f 63 74 6f 72 20 66 6f 72 20 69 74 73 20 65 79 65 73 2c a 41 6e 64 20 68 61 73 20 74 68 65 20 6d 65 61 73 6c 65 73 20 79 65 61 72 6c 79 2c a a 48 6f 77 65 76 65 72 2c 20 69 66 20 79 6f 75 20 66 65 65 6c 20 69 6e 63 6c 69 6e 65 64 a 54 6f 20 67 65 74 20 6f 6e 65 20 28 74 6f 20 69 6d 70 72 6f 76 65 20 79 6f 75 72 20 6d 69 6e 64 2c a 41 6e 64 20 6e 6f 74 20 66 72 6f 6d 20 66 61 73 68 69 6f 6e 20 6d 65 72 65 6c 79 29 2c a 41 6c 6c 6f 77 20 6e 6f 20 6d 75 73 69 63 20 6e 65 61 72 20 69 74 73 20 63 61 67 65 3b a a 41 6e 64 20 77 68 65 6e 20 69 66 20 66 6c 69 65 73 20 69 6e 74 6f 20 61 20 72 61 67 65 a 43 68 61 73 74 69 73 65 20 69 74 2c 20 6d 6f 73 74 20 73 65 76 65 72 65 6c 79 2e a a 49 20 68 61 64 20 61 6e 20 41 75 6e 74 20 69 6e 20 59 75 63 61 74 61 6e a 57 68 6f 20 62 6f 75 67 68 74 20 61 20 50 79 74 68 6f 6e 20 66 72 6f 6d 20 61 20 6d 61 6e a 20 20 20 20 41 6e 64 20 6b 65 70 74 20 69 74 20 66 6f 72 20 61 20 70 65 74 2e a 53 68 65 20 64 69 65 64 2c 20 62 65 63 61 75 73 65 20 73 68 65 20 6e 65 76 65 72 20 6b 6e 65 77 a 54 68 65 73 65 20 73 69 6d 70 6c 65 20 6c 69 74 74 6c 65 20 72 75 6c 65 73 20 61 6e 64 20 66 65 77 3b 20 2d 2d 20 a a 54 68 65 20 53 6e 61 6b 65 20 69 73 20 6c 69 76 69 6e 67 20 79 65 74 2e\n"
          ]
        }
      ]
    },
    {
      "cell_type": "code",
      "metadata": {
        "colab": {
          "base_uri": "https://localhost:8080/"
        },
        "id": "tiZO9EIXGn8T",
        "outputId": "03a86006-eba1-43bf-e6f0-07f102005102"
      },
      "source": [
        "for line in poem:\n",
        "    new_line = []\n",
        "\n",
        "    for letter in line:\n",
        "        new_line.append(chr(ord(letter) + 1 ))\n",
        "\n",
        "    print(*new_line, sep = '')"
      ],
      "execution_count": null,
      "outputs": [
        {
          "output_type": "stream",
          "name": "stdout",
          "text": [
            "B!Qzuipo!J!tipvme!opu!bewjtf-!..!\n",
            "Ju!offet!b!epdups!gps!jut!fzft-\n",
            "Boe!ibt!uif!nfbtmft!zfbsmz-\n",
            "\n",
            "Ipxfwfs-!jg!zpv!gffm!jodmjofe\n",
            "Up!hfu!pof!)up!jnqspwf!zpvs!njoe-\n",
            "Boe!opu!gspn!gbtijpo!nfsfmz*-\n",
            "Bmmpx!op!nvtjd!ofbs!jut!dbhf<\n",
            "\n",
            "Boe!xifo!jg!gmjft!joup!b!sbhf\n",
            "Dibtujtf!ju-!nptu!tfwfsfmz/\n",
            "\n",
            "J!ibe!bo!Bvou!jo!Zvdbubo\n",
            "Xip!cpvhiu!b!Qzuipo!gspn!b!nbo\n",
            "!!!!Boe!lfqu!ju!gps!b!qfu/\n",
            "Tif!ejfe-!cfdbvtf!tif!ofwfs!lofx\n",
            "Uiftf!tjnqmf!mjuumf!svmft!boe!gfx<!..!\n",
            "\n",
            "Uif!Toblf!jt!mjwjoh!zfu/\n"
          ]
        }
      ]
    },
    {
      "cell_type": "code",
      "metadata": {
        "colab": {
          "base_uri": "https://localhost:8080/"
        },
        "id": "PDF6v3zRT2EE",
        "outputId": "3a27c044-eea9-4d1c-eafb-34b42be457ca"
      },
      "source": [
        "for line in poem:\n",
        "    new_line = []\n",
        "\n",
        "    for letter in line:\n",
        "        new_line.append(chr(ord(letter) + 5 ))\n",
        "\n",
        "    print(*new_line, sep = '')"
      ],
      "execution_count": null,
      "outputs": [
        {
          "output_type": "stream",
          "name": "stdout",
          "text": [
            "F%U~ymts%N%xmtzqi%sty%fi{nxj1%22%\n",
            "Ny%sjjix%f%ithytw%ktw%nyx%j~jx1\n",
            "Fsi%mfx%ymj%rjfxqjx%~jfwq~1\n",
            "\n",
            "Mt|j{jw1%nk%~tz%kjjq%nshqnsji\n",
            "Yt%ljy%tsj%-yt%nruwt{j%~tzw%rnsi1\n",
            "Fsi%sty%kwtr%kfxmnts%rjwjq~.1\n",
            "Fqqt|%st%rzxnh%sjfw%nyx%hflj@\n",
            "\n",
            "Fsi%|mjs%nk%kqnjx%nsyt%f%wflj\n",
            "Hmfxynxj%ny1%rtxy%xj{jwjq~3\n",
            "\n",
            "N%mfi%fs%Fzsy%ns%^zhfyfs\n",
            "\\mt%gtzlmy%f%U~ymts%kwtr%f%rfs\n",
            "%%%%Fsi%pjuy%ny%ktw%f%ujy3\n",
            "Xmj%inji1%gjhfzxj%xmj%sj{jw%psj|\n",
            "Ymjxj%xnruqj%qnyyqj%wzqjx%fsi%kj|@%22%\n",
            "\n",
            "Ymj%Xsfpj%nx%qn{nsl%~jy3\n"
          ]
        }
      ]
    },
    {
      "cell_type": "code",
      "metadata": {
        "colab": {
          "base_uri": "https://localhost:8080/"
        },
        "id": "IcqN5lkLbcms",
        "outputId": "7e458780-0c8f-4f10-9bae-77cec94702dd"
      },
      "source": [
        "for line in poem:\n",
        "    new_line = ''\n",
        "    for word in line.split(' '):\n",
        "        if len(word) >= 5:\n",
        "            new_line = (new_line \n",
        "                        + '~<=' \n",
        "                        + ((len(word) - 5) * '=') \n",
        "                        + '=- ')\n",
        "\n",
        "        else:\n",
        "            new_line = (new_line \n",
        "                        + (len(word) * '.') \n",
        "                        + ' ')\n",
        "    print(new_line)"
      ],
      "execution_count": null,
      "outputs": [
        {
          "output_type": "stream",
          "name": "stdout",
          "text": [
            ". ~<===- . ~<===- ... ~<====- ..  \n",
            ".. ~<==- . ~<===- ... ... ~<==- \n",
            "... ... ... ~<====- ~<====- \n",
            " \n",
            "~<=====- .. ... .... ~<=====- \n",
            ".. ... ... ... ~<====- .... ~<==- \n",
            "... ... .... ~<====- ~<=====- \n",
            "~<==- .. ~<==- .... ... ~<==- \n",
            " \n",
            "... .... .. ~<==- .... . .... \n",
            "~<=====- ... .... ~<======- \n",
            " \n",
            ". ... .. .... .. ~<====- \n",
            "... ~<===- . ~<===- .... . ... \n",
            "    ... .... .. ... . .... \n",
            "... ~<==- ~<====- ... ~<==- .... \n",
            "~<==- ~<===- ~<===- ~<==- ... .... ..  \n",
            " \n",
            "... ~<==- .. ~<===- .... \n"
          ]
        }
      ]
    },
    {
      "cell_type": "code",
      "metadata": {
        "colab": {
          "base_uri": "https://localhost:8080/"
        },
        "id": "CousE5zAURVr",
        "outputId": "b83364c0-459b-4cf2-cd3f-6c843e3b1cd1"
      },
      "source": [
        "letters = ''.join(all_words)\n",
        "\n",
        "while len(letters) != 0:\n",
        "    try: \n",
        "        print(str(letters[:45])[::-1])\n",
        "        print(letters[45].ljust(45))\n",
        "        print(letters[46].ljust(45))\n",
        "        print(letters[47].ljust(45))\n",
        "        letters = letters[48:]\n",
        "\n",
        "        print(letters[:45])\n",
        "        print(letters[45].rjust(45))\n",
        "        print(letters[46].rjust(45))\n",
        "        print(letters[47].rjust(45))\n",
        "        letters = letters[48:]\n",
        "    except:\n",
        "        letters = ''"
      ],
      "execution_count": null,
      "outputs": [
        {
          "output_type": "stream",
          "name": "stdout",
          "text": [
            "tirofrotcodasdeentI--,esivdatondluohsInohtyPA\n",
            "s                                            \n",
            "e                                            \n",
            "y                                            \n",
            "es,Andhasthemeaslesyearly,However,ifyoufeelin\n",
            "                                            c\n",
            "                                            l\n",
            "                                            i\n",
            "ihsafmorftondnA,dnimruoyevorpmiot(enotegoTden\n",
            "o                                            \n",
            "n                                            \n",
            "m                                            \n",
            "erely),Allownomusicnearitscage;Andwhenifflies\n",
            "                                            i\n",
            "                                            n\n",
            "                                            t\n",
            "cuYnitnuAnadahI.ylerevestsom,tiesitsahCegarao\n",
            "a                                            \n",
            "t                                            \n",
            "a                                            \n",
            "nWhoboughtaPythonfromamanAndkeptitforapet.She\n",
            "                                            d\n",
            "                                            i\n",
            "                                            e\n",
            "naselurelttilelpmisesehTwenkrevenehsesuaceb,d\n",
            "d                                            \n",
            "f                                            \n",
            "e                                            \n",
            "w;--TheSnakeislivingyet.\n"
          ]
        }
      ]
    },
    {
      "cell_type": "code",
      "metadata": {
        "id": "WjJ3w82L37Bi"
      },
      "source": [
        ""
      ],
      "execution_count": null,
      "outputs": []
    }
  ]
}